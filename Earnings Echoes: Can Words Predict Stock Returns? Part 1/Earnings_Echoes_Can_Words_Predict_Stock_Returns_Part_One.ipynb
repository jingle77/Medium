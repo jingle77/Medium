{
 "cells": [
  {
   "cell_type": "markdown",
   "metadata": {
    "id": "BukifMTVLwMG"
   },
   "source": [
    "## Libraries"
   ]
  },
  {
   "cell_type": "code",
   "execution_count": 47,
   "metadata": {
    "colab": {
     "base_uri": "https://localhost:8080/"
    },
    "id": "0hhGBJRhL0D0",
    "outputId": "13c5a0f5-5711-4176-e262-7253f072d445",
    "tags": []
   },
   "outputs": [
    {
     "name": "stderr",
     "output_type": "stream",
     "text": [
      "[nltk_data] Downloading package punkt to /home/ec2-user/nltk_data...\n",
      "[nltk_data]   Package punkt is already up-to-date!\n",
      "[nltk_data] Downloading package stopwords to\n",
      "[nltk_data]     /home/ec2-user/nltk_data...\n",
      "[nltk_data]   Package stopwords is already up-to-date!\n",
      "[nltk_data] Downloading package wordnet to /home/ec2-user/nltk_data...\n",
      "[nltk_data]   Package wordnet is already up-to-date!\n"
     ]
    }
   ],
   "source": [
    "## Importing/Formatting Data\n",
    "import requests\n",
    "import pandas as pd\n",
    "from datetime import datetime, timedelta\n",
    "from tqdm import tqdm\n",
    "\n",
    "## Natural Language Processing\n",
    "import re\n",
    "from nltk.tokenize import sent_tokenize, word_tokenize\n",
    "from nltk.corpus import stopwords\n",
    "from nltk.stem import WordNetLemmatizer\n",
    "from nltk import word_tokenize, pos_tag, ne_chunk\n",
    "import spacy\n",
    "\n",
    "# You might need to download the NLTK resources the first time you run the script\n",
    "import nltk\n",
    "nltk.download('punkt')\n",
    "nltk.download('stopwords')\n",
    "nltk.download('wordnet')\n",
    "\n",
    "## Modeling\n",
    "from sklearn.model_selection import train_test_split\n",
    "from sklearn.feature_extraction.text import TfidfVectorizer\n",
    "from xgboost import XGBRegressor\n",
    "from sklearn.pipeline import make_pipeline\n",
    "from sklearn.compose import ColumnTransformer\n",
    "from sklearn.preprocessing import FunctionTransformer\n",
    "\n",
    "## Evaluation & Visualizing Results\n",
    "from sklearn.metrics import mean_absolute_percentage_error, r2_score\n",
    "import matplotlib.pyplot as plt\n",
    "import seaborn as sns\n",
    "sns.set()"
   ]
  },
  {
   "cell_type": "markdown",
   "metadata": {
    "id": "CZNchzDYLu11"
   },
   "source": [
    "## Functions"
   ]
  },
  {
   "cell_type": "code",
   "execution_count": 48,
   "metadata": {
    "id": "eDDqyHT3iNMr",
    "tags": []
   },
   "outputs": [],
   "source": [
    "def import_bulk_transcript_data(symbols,start_year,api_key):\n",
    "\n",
    "  SYMBOLS = []\n",
    "  DATE = []\n",
    "  TRANSCRIPT = []\n",
    "\n",
    "  for i in tqdm(range(len(symbols))):\n",
    "    s = symbols[i]\n",
    "    for y in range(start_year,2022,1):\n",
    "      for q in range(1,5):\n",
    "        try:\n",
    "          url = f'https://financialmodelingprep.com/api/v3/earning_call_transcript/{s}?year={y}&quarter={q}&apikey={api_key}'\n",
    "          data = requests.get(url).json()\n",
    "          transcript = data[0]['content']\n",
    "          date = data[0]['date']\n",
    "          SYMBOLS.append(s)\n",
    "          DATE.append(date)\n",
    "          TRANSCRIPT.append(transcript)\n",
    "        except:\n",
    "          pass\n",
    "\n",
    "  transcript_df = pd.DataFrame({\n",
    "      \"Symbol\":SYMBOLS,\n",
    "      \"Date\":DATE,\n",
    "      \"Transcript\":TRANSCRIPT\n",
    "  })\n",
    "\n",
    "  transcript_df['Date'] = pd.to_datetime(transcript_df['Date'])\n",
    "  transcript_df['Date'] = transcript_df['Date'].dt.strftime('%Y-%m-%d')\n",
    "  transcript_df['Date'] = pd.to_datetime(transcript_df['Date'])\n",
    "\n",
    "  return transcript_df"
   ]
  },
  {
   "cell_type": "code",
   "execution_count": 49,
   "metadata": {
    "id": "pUFf-WaKXKam",
    "tags": []
   },
   "outputs": [],
   "source": [
    "def import_bulk_price_data(api_key,symbols):\n",
    "\n",
    "  dfs = []\n",
    "\n",
    "  for i in tqdm(range(len(symbols))):\n",
    "    s = symbols[i]\n",
    "    prices = requests.get(f'https://financialmodelingprep.com/api/v3/historical-chart/1day/{s}?from=\"2023-01-01\"&to=\"2024-01-01\"&apikey={api_key}').json()\n",
    "    price_df = pd.json_normalize(prices).sort_values(by='date').reset_index(drop=True)\n",
    "    price_df['date'] = pd.to_datetime(price_df['date'])\n",
    "    price_df['date'].dt.strftime('%Y-%m-%d')\n",
    "    price_df['monthly_return'] = price_df['close'].pct_change(periods=20).shift(-20)\n",
    "    price_df['symbol'] = s\n",
    "    dfs.append(price_df)\n",
    "    combined_df = pd.concat(dfs, ignore_index=True)\n",
    "  return combined_df"
   ]
  },
  {
   "cell_type": "markdown",
   "metadata": {
    "id": "9ktrK45IL5XB"
   },
   "source": [
    "## Get Data"
   ]
  },
  {
   "cell_type": "code",
   "execution_count": 50,
   "metadata": {
    "id": "U-XKMT-T_YUf",
    "tags": []
   },
   "outputs": [],
   "source": [
    "api_key = \"your_api_key_here\"\n",
    "stocks = [\"TSLA\",\"AMD\",\"AAPL\",\"AMZN\",\"F\",\"NVDA\",\"BAC\",\"INTC\",\"T\",\"PFE\",\"GOOGL\",\"UBER\",\n",
    "          \"MSFT\",\"VZ\",\"GOOG\",\"VALE\",\"XOM\",\"META\",\"CMCSA\",\"CSCO\",\"PCG\",\"PBR\",\"C\",\"GM\",\"WFC\"]"
   ]
  },
  {
   "cell_type": "markdown",
   "metadata": {
    "id": "wSk4iJmbQrVR"
   },
   "source": [
    "#### Transcript"
   ]
  },
  {
   "cell_type": "markdown",
   "metadata": {
    "id": "H9YyYY38fo18"
   },
   "source": [
    "#### Price Data"
   ]
  },
  {
   "cell_type": "code",
   "execution_count": 51,
   "metadata": {
    "colab": {
     "base_uri": "https://localhost:8080/"
    },
    "id": "BJvs6JkU_IRn",
    "outputId": "20ffe320-a4dd-4e1b-f06e-fe4b32937e17",
    "tags": []
   },
   "outputs": [
    {
     "name": "stderr",
     "output_type": "stream",
     "text": [
      "100%|██████████| 25/25 [00:10<00:00,  2.42it/s]\n"
     ]
    }
   ],
   "source": [
    "price_data = import_bulk_price_data(api_key=api_key,symbols=stocks)"
   ]
  },
  {
   "cell_type": "markdown",
   "metadata": {
    "id": "_w4itAG5_Gxn"
   },
   "source": [
    "#### Transcript Data"
   ]
  },
  {
   "cell_type": "code",
   "execution_count": 52,
   "metadata": {
    "colab": {
     "base_uri": "https://localhost:8080/"
    },
    "id": "Z5ocqq1WfreS",
    "outputId": "06c0aeac-63be-4b6f-c3c5-e6d8ff270100",
    "tags": []
   },
   "outputs": [
    {
     "name": "stderr",
     "output_type": "stream",
     "text": [
      "100%|██████████| 25/25 [00:43<00:00,  1.76s/it]\n"
     ]
    }
   ],
   "source": [
    "transcript_data = import_bulk_transcript_data(symbols = stocks,start_year = 2015,api_key=api_key)"
   ]
  },
  {
   "cell_type": "markdown",
   "metadata": {
    "id": "C8HqN8caQtnq"
   },
   "source": [
    "#### Format Date and Inner Join"
   ]
  },
  {
   "cell_type": "code",
   "execution_count": 53,
   "metadata": {
    "colab": {
     "base_uri": "https://localhost:8080/",
     "height": 206
    },
    "id": "BmdcnLZFSBAV",
    "outputId": "188952b9-41ba-4b18-9ebc-74cef6dc02d1",
    "tags": []
   },
   "outputs": [
    {
     "data": {
      "text/html": [
       "<div>\n",
       "<style scoped>\n",
       "    .dataframe tbody tr th:only-of-type {\n",
       "        vertical-align: middle;\n",
       "    }\n",
       "\n",
       "    .dataframe tbody tr th {\n",
       "        vertical-align: top;\n",
       "    }\n",
       "\n",
       "    .dataframe thead th {\n",
       "        text-align: right;\n",
       "    }\n",
       "</style>\n",
       "<table border=\"1\" class=\"dataframe\">\n",
       "  <thead>\n",
       "    <tr style=\"text-align: right;\">\n",
       "      <th></th>\n",
       "      <th>Date</th>\n",
       "      <th>Symbol</th>\n",
       "      <th>Transcript</th>\n",
       "      <th>monthly_return</th>\n",
       "    </tr>\n",
       "  </thead>\n",
       "  <tbody>\n",
       "    <tr>\n",
       "      <th>0</th>\n",
       "      <td>2015-05-05</td>\n",
       "      <td>TSLA</td>\n",
       "      <td>Executives: Aaron Chew - Vice President, Inves...</td>\n",
       "      <td>0.068899</td>\n",
       "    </tr>\n",
       "    <tr>\n",
       "      <th>1</th>\n",
       "      <td>2015-07-30</td>\n",
       "      <td>TSLA</td>\n",
       "      <td>Executives: Aaron N. Chew - Vice President-Inv...</td>\n",
       "      <td>-0.089376</td>\n",
       "    </tr>\n",
       "    <tr>\n",
       "      <th>2</th>\n",
       "      <td>2015-10-30</td>\n",
       "      <td>TSLA</td>\n",
       "      <td>Executives: Aaron Chew - Vice President, Inves...</td>\n",
       "      <td>0.112319</td>\n",
       "    </tr>\n",
       "    <tr>\n",
       "      <th>3</th>\n",
       "      <td>2016-02-10</td>\n",
       "      <td>TSLA</td>\n",
       "      <td>Executives: Aaron Chew - VP of Investor Relati...</td>\n",
       "      <td>0.427975</td>\n",
       "    </tr>\n",
       "    <tr>\n",
       "      <th>4</th>\n",
       "      <td>2016-05-05</td>\n",
       "      <td>TSLA</td>\n",
       "      <td>Executives: Jeff Evanson - Investor Relations,...</td>\n",
       "      <td>0.035461</td>\n",
       "    </tr>\n",
       "  </tbody>\n",
       "</table>\n",
       "</div>"
      ],
      "text/plain": [
       "        Date Symbol                                         Transcript  \\\n",
       "0 2015-05-05   TSLA  Executives: Aaron Chew - Vice President, Inves...   \n",
       "1 2015-07-30   TSLA  Executives: Aaron N. Chew - Vice President-Inv...   \n",
       "2 2015-10-30   TSLA  Executives: Aaron Chew - Vice President, Inves...   \n",
       "3 2016-02-10   TSLA  Executives: Aaron Chew - VP of Investor Relati...   \n",
       "4 2016-05-05   TSLA  Executives: Jeff Evanson - Investor Relations,...   \n",
       "\n",
       "   monthly_return  \n",
       "0        0.068899  \n",
       "1       -0.089376  \n",
       "2        0.112319  \n",
       "3        0.427975  \n",
       "4        0.035461  "
      ]
     },
     "execution_count": 53,
     "metadata": {},
     "output_type": "execute_result"
    }
   ],
   "source": [
    "merged_df = pd.merge(transcript_data, price_data, left_on=['Symbol', 'Date'], right_on=['symbol', 'date'], how='inner')\n",
    "merged_df = merged_df[['Date', 'Symbol', 'Transcript', 'monthly_return']]\n",
    "merged_df.head()"
   ]
  },
  {
   "cell_type": "markdown",
   "metadata": {
    "id": "YXRjcY8PYjwR"
   },
   "source": [
    "## Modeling"
   ]
  },
  {
   "cell_type": "markdown",
   "metadata": {
    "id": "uayHFdIM9-f0"
   },
   "source": [
    "#### Preprocess"
   ]
  },
  {
   "cell_type": "code",
   "execution_count": 54,
   "metadata": {
    "id": "v0Pi3JCQ-BIo",
    "tags": []
   },
   "outputs": [],
   "source": [
    "# Function to remove stop words, perform lemmatization\n",
    "def preprocess_text(text):\n",
    "    stop_words = set(stopwords.words('english'))\n",
    "    lemmatizer = WordNetLemmatizer()\n",
    "\n",
    "    # Tokenization\n",
    "    tokens = nltk.word_tokenize(text.lower())\n",
    "\n",
    "    # Remove stop words\n",
    "    tokens = [token for token in tokens if token not in stop_words]\n",
    "\n",
    "    # Lemmatization\n",
    "    tokens = [lemmatizer.lemmatize(token) for token in tokens]\n",
    "\n",
    "    return ' '.join(tokens)\n",
    "\n",
    "# Apply the preprocessing functions to the 'Transcript' column\n",
    "merged_df['Cleaned_Transcript'] = merged_df['Transcript'].apply(preprocess_text)\n",
    "\n",
    "# Define features and target variable\n",
    "X = merged_df[['Cleaned_Transcript']]\n",
    "y = merged_df['monthly_return']\n",
    "\n",
    "# Split the data into training and testing sets\n",
    "X_train, X_test, y_train, y_test = train_test_split(X, y, test_size=0.2, random_state=42)"
   ]
  },
  {
   "cell_type": "markdown",
   "metadata": {
    "id": "E7PYZUXL-DUN"
   },
   "source": [
    "#### Modeling Pipeline"
   ]
  },
  {
   "cell_type": "code",
   "execution_count": 55,
   "metadata": {
    "id": "II7iJWeh-FW6",
    "tags": []
   },
   "outputs": [],
   "source": [
    "# Create a pipeline with TfidfVectorizer and XGBRegressor\n",
    "preprocessor = ColumnTransformer(\n",
    "    transformers=[\n",
    "        ('cleaned_transcript', TfidfVectorizer(ngram_range=(1, 3)), 'Cleaned_Transcript')\n",
    "    ]\n",
    ")\n",
    "\n",
    "model = make_pipeline(preprocessor, XGBRegressor(objective='reg:squarederror'))"
   ]
  },
  {
   "cell_type": "markdown",
   "metadata": {
    "id": "NUVYaIHg-Fu5"
   },
   "source": [
    "#### Fitting the Model & Evaluation"
   ]
  },
  {
   "cell_type": "code",
   "execution_count": 56,
   "metadata": {
    "id": "NlSZfjg--Llg",
    "tags": []
   },
   "outputs": [
    {
     "name": "stdout",
     "output_type": "stream",
     "text": [
      "Mean Absolute Percentage Error: 2.614450463541667\n",
      "Variance Explained: -0.1986754813124758\n"
     ]
    }
   ],
   "source": [
    "# Fit the model\n",
    "model.fit(X_train, y_train)\n",
    "\n",
    "# Predict on the test set\n",
    "y_pred = model.predict(X_test)\n",
    "\n",
    "# Evaluate the model\n",
    "mape = mean_absolute_percentage_error(y_test, y_pred)\n",
    "r_squared = r2_score(y_test, y_pred)\n",
    "\n",
    "print(f'Mean Absolute Percentage Error: {mape}')\n",
    "print(f'Variance Explained: {r_squared}')"
   ]
  },
  {
   "cell_type": "code",
   "execution_count": 57,
   "metadata": {
    "id": "H5jMUtVtAha9",
    "tags": []
   },
   "outputs": [
    {
     "name": "stderr",
     "output_type": "stream",
     "text": [
      "/tmp/ipykernel_20918/246702923.py:4: UserWarning: Ignoring `palette` because no `hue` variable has been assigned.\n",
      "  sns.scatterplot(x = y_test, y = y_pred, palette='viridis',alpha=0.7, s=100)\n"
     ]
    },
    {
     "data": {
      "image/png": "[encoded data removed]",
      "text/plain": [
       "<Figure size 640x480 with 1 Axes>"
      ]
     },
     "metadata": {},
     "output_type": "display_data"
    }
   ],
   "source": [
    "sns.set(style='whitegrid')\n",
    "\n",
    "# Create a scatter plot\n",
    "sns.scatterplot(x = y_test, y = y_pred, palette='viridis',alpha=0.7, s=100)\n",
    "\n",
    "# Add labels and title\n",
    "plt.xlabel('Actual Returns')\n",
    "plt.ylabel('Predicted Returns')\n",
    "plt.title('Predicted vs. Actual Returns')\n",
    "\n",
    "# Display the plot\n",
    "plt.show()"
   ]
  },
  {
   "cell_type": "markdown",
   "metadata": {
    "tags": []
   },
   "source": [
    "----"
   ]
  },
  {
   "cell_type": "code",
   "execution_count": null,
   "metadata": {},
   "outputs": [],
   "source": []
  },
  {
   "cell_type": "code",
   "execution_count": 41,
   "metadata": {
    "tags": []
   },
   "outputs": [],
   "source": [
    "pred = list(y_pred > 0)"
   ]
  },
  {
   "cell_type": "code",
   "execution_count": 42,
   "metadata": {
    "id": "WjvCgd__AkTH",
    "tags": []
   },
   "outputs": [],
   "source": [
    "test = list(y_test.values > 0)"
   ]
  },
  {
   "cell_type": "code",
   "execution_count": 43,
   "metadata": {
    "tags": []
   },
   "outputs": [
    {
     "data": {
      "text/plain": [
       "121"
      ]
     },
     "execution_count": 43,
     "metadata": {},
     "output_type": "execute_result"
    }
   ],
   "source": [
    "len(y_pred)"
   ]
  },
  {
   "cell_type": "code",
   "execution_count": 44,
   "metadata": {
    "tags": []
   },
   "outputs": [
    {
     "data": {
      "text/plain": [
       "121"
      ]
     },
     "execution_count": 44,
     "metadata": {},
     "output_type": "execute_result"
    }
   ],
   "source": [
    "len(test)"
   ]
  },
  {
   "cell_type": "code",
   "execution_count": 45,
   "metadata": {
    "tags": []
   },
   "outputs": [],
   "source": [
    "df = pd.DataFrame({\n",
    "    \"pred\":pred,\n",
    "    \"test\":test\n",
    "})"
   ]
  },
  {
   "cell_type": "code",
   "execution_count": 60,
   "metadata": {
    "tags": []
   },
   "outputs": [],
   "source": [
    "df['column3'] = df['pred'] == df['test']"
   ]
  },
  {
   "cell_type": "code",
   "execution_count": 63,
   "metadata": {
    "tags": []
   },
   "outputs": [
    {
     "data": {
      "text/plain": [
       "0.5454545454545454"
      ]
     },
     "execution_count": 63,
     "metadata": {},
     "output_type": "execute_result"
    }
   ],
   "source": [
    "df.column3.sum() / len(df)"
   ]
  },
  {
   "cell_type": "code",
   "execution_count": null,
   "metadata": {},
   "outputs": [],
   "source": []
  }
 ],
 "metadata": {
  "colab": {
   "provenance": []
  },
  "kernelspec": {
   "display_name": "conda_python3",
   "language": "python",
   "name": "conda_python3"
  },
  "language_info": {
   "codemirror_mode": {
    "name": "ipython",
    "version": 3
   },
   "file_extension": ".py",
   "mimetype": "text/x-python",
   "name": "python",
   "nbconvert_exporter": "python",
   "pygments_lexer": "ipython3",
   "version": "3.10.13"
  }
 },
 "nbformat": 4,
 "nbformat_minor": 4
}
