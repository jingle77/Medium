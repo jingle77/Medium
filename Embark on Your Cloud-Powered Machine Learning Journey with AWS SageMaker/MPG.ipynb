{
 "cells": [
  {
   "cell_type": "code",
   "execution_count": 3,
   "id": "fd145b1e-485a-4319-837c-9d36396bef0f",
   "metadata": {
    "tags": []
   },
   "outputs": [],
   "source": [
    "import pandas as pd\n",
    "import numpy as np\n",
    "import matplotlib.pyplot as plt\n",
    "from sklearn.model_selection import train_test_split\n",
    "import sagemaker\n",
    "import boto3\n",
    "import io\n",
    "import sagemaker.amazon.common as smac\n",
    "import os\n",
    "from sagemaker.deserializers import JSONDeserializer\n",
    "from sagemaker.serializers import CSVSerializer"
   ]
  },
  {
   "cell_type": "code",
   "execution_count": 4,
   "id": "790bc4f8-759c-4f74-81c2-9f770e95a502",
   "metadata": {
    "tags": []
   },
   "outputs": [
    {
     "data": {
      "text/html": [
       "<div>\n",
       "<style scoped>\n",
       "    .dataframe tbody tr th:only-of-type {\n",
       "        vertical-align: middle;\n",
       "    }\n",
       "\n",
       "    .dataframe tbody tr th {\n",
       "        vertical-align: top;\n",
       "    }\n",
       "\n",
       "    .dataframe thead th {\n",
       "        text-align: right;\n",
       "    }\n",
       "</style>\n",
       "<table border=\"1\" class=\"dataframe\">\n",
       "  <thead>\n",
       "    <tr style=\"text-align: right;\">\n",
       "      <th></th>\n",
       "      <th>Horse Power</th>\n",
       "      <th>Fuel Economy (MPG)</th>\n",
       "    </tr>\n",
       "  </thead>\n",
       "  <tbody>\n",
       "    <tr>\n",
       "      <th>0</th>\n",
       "      <td>118.770799</td>\n",
       "      <td>29.344195</td>\n",
       "    </tr>\n",
       "    <tr>\n",
       "      <th>1</th>\n",
       "      <td>176.326567</td>\n",
       "      <td>24.695934</td>\n",
       "    </tr>\n",
       "    <tr>\n",
       "      <th>2</th>\n",
       "      <td>219.262465</td>\n",
       "      <td>23.952010</td>\n",
       "    </tr>\n",
       "    <tr>\n",
       "      <th>3</th>\n",
       "      <td>187.310009</td>\n",
       "      <td>23.384546</td>\n",
       "    </tr>\n",
       "    <tr>\n",
       "      <th>4</th>\n",
       "      <td>218.594340</td>\n",
       "      <td>23.426739</td>\n",
       "    </tr>\n",
       "  </tbody>\n",
       "</table>\n",
       "</div>"
      ],
      "text/plain": [
       "   Horse Power  Fuel Economy (MPG)\n",
       "0   118.770799           29.344195\n",
       "1   176.326567           24.695934\n",
       "2   219.262465           23.952010\n",
       "3   187.310009           23.384546\n",
       "4   218.594340           23.426739"
      ]
     },
     "execution_count": 4,
     "metadata": {},
     "output_type": "execute_result"
    }
   ],
   "source": [
    "data = pd.read_csv('FuelEconomy.csv')\n",
    "data.head()"
   ]
  },
  {
   "cell_type": "code",
   "execution_count": 5,
   "id": "87a64a54-d10f-4e58-aabd-0e6cf176c818",
   "metadata": {
    "tags": []
   },
   "outputs": [],
   "source": [
    "X = data['Horse Power']\n",
    "y = data['Fuel Economy (MPG)']"
   ]
  },
  {
   "cell_type": "code",
   "execution_count": 6,
   "id": "280611d1-1e69-400e-9482-915890cc2e89",
   "metadata": {
    "tags": []
   },
   "outputs": [],
   "source": [
    "X = np.array(X).astype('float32')\n",
    "y = np.array(y).astype('float32')"
   ]
  },
  {
   "cell_type": "code",
   "execution_count": 7,
   "id": "1b94c2b3-d64f-40fd-9460-f10820a125bd",
   "metadata": {
    "tags": []
   },
   "outputs": [],
   "source": [
    "X_train, X_test, y_train, y_test = train_test_split(X, y, test_size = 0.2)"
   ]
  },
  {
   "cell_type": "code",
   "execution_count": 8,
   "id": "f0ece7f0-fd91-4c69-992c-9c49e9189686",
   "metadata": {
    "tags": []
   },
   "outputs": [],
   "source": [
    "X_train = np.reshape(X_train, (X_train.shape[0], 1))\n",
    "X_test = np.reshape(X_test, (X_test.shape[0], 1))"
   ]
  },
  {
   "cell_type": "code",
   "execution_count": 9,
   "id": "6af263b8-2047-458d-998f-bc1a8156bd3f",
   "metadata": {
    "tags": []
   },
   "outputs": [
    {
     "name": "stdout",
     "output_type": "stream",
     "text": [
      "sagemaker.config INFO - Not applying SDK defaults from location: /etc/xdg/sagemaker/config.yaml\n",
      "sagemaker.config INFO - Not applying SDK defaults from location: /home/ec2-user/.config/sagemaker/config.yaml\n",
      "sagemaker.config INFO - Not applying SDK defaults from location: /etc/xdg/sagemaker/config.yaml\n",
      "sagemaker.config INFO - Not applying SDK defaults from location: /home/ec2-user/.config/sagemaker/config.yaml\n",
      "arn:aws:iam::809503251832:role/Sagemaker_ML_Engineer\n"
     ]
    }
   ],
   "source": [
    "sagemaker_session = sagemaker.Session()\n",
    "\n",
    "bucket = 'sagemaker-mpg'\n",
    "prefix = 'linear_learner'\n",
    "\n",
    "role = sagemaker.get_execution_role()\n",
    "print(role)"
   ]
  },
  {
   "cell_type": "code",
   "execution_count": 10,
   "id": "a253c04d-f793-4c39-8eea-1aac865298aa",
   "metadata": {
    "tags": []
   },
   "outputs": [
    {
     "name": "stdout",
     "output_type": "stream",
     "text": [
      "uploaded training data location: s3://sagemaker-mpg/linear_learner/train/linear-train-data\n"
     ]
    }
   ],
   "source": [
    "buf = io.BytesIO()\n",
    "smac.write_numpy_to_dense_tensor(buf, X_train, y_train)\n",
    "buf.seek(0) \n",
    "\n",
    "key = 'linear-train-data'\n",
    "boto3.resource('s3').Bucket(bucket).Object(os.path.join(prefix, 'train', key)).upload_fileobj(buf)\n",
    "s3_train_data = 's3://{}/{}/train/{}'.format(bucket, prefix, key)\n",
    "print('uploaded training data location: {}'.format(s3_train_data))"
   ]
  },
  {
   "cell_type": "code",
   "execution_count": 11,
   "id": "877d3f31-e628-4bff-ac56-c8f444872c03",
   "metadata": {
    "tags": []
   },
   "outputs": [
    {
     "name": "stdout",
     "output_type": "stream",
     "text": [
      "uploaded training data location: s3://sagemaker-mpg/linear_learner/test/linear-test-data\n"
     ]
    }
   ],
   "source": [
    "buf = io.BytesIO()\n",
    "smac.write_numpy_to_dense_tensor(buf, X_test, y_test)\n",
    "buf.seek(0) \n",
    "\n",
    "key = 'linear-test-data'\n",
    "boto3.resource('s3').Bucket(bucket).Object(os.path.join(prefix, 'test', key)).upload_fileobj(buf)\n",
    "s3_test_data = 's3://{}/{}/test/{}'.format(bucket, prefix, key)\n",
    "print('uploaded training data location: {}'.format(s3_test_data))"
   ]
  },
  {
   "cell_type": "code",
   "execution_count": 12,
   "id": "cddd2343-13bd-4cf4-af89-ff852579d85c",
   "metadata": {
    "tags": []
   },
   "outputs": [
    {
     "name": "stdout",
     "output_type": "stream",
     "text": [
      "Training artifacts will be uploaded to: s3://sagemaker-mpg/linear_learner/output\n"
     ]
    }
   ],
   "source": [
    "output_location = 's3://{}/{}/output'.format(bucket, prefix)\n",
    "print('Training artifacts will be uploaded to: {}'.format(output_location))"
   ]
  },
  {
   "cell_type": "code",
   "execution_count": 13,
   "id": "8eab72ad-2b55-443e-b761-43789cb48c8f",
   "metadata": {
    "tags": []
   },
   "outputs": [],
   "source": [
    "container = sagemaker.image_uris.retrieve(\"linear-learner\", boto3.Session().region_name)"
   ]
  },
  {
   "cell_type": "code",
   "execution_count": 14,
   "id": "33714475-023f-491c-9d86-9640b0807b60",
   "metadata": {
    "tags": []
   },
   "outputs": [
    {
     "name": "stderr",
     "output_type": "stream",
     "text": [
      "INFO:sagemaker:Creating training-job with name: linear-learner-2023-11-27-21-06-34-580\n"
     ]
    },
    {
     "name": "stdout",
     "output_type": "stream",
     "text": [
      "2023-11-27 21:06:34 Starting - Starting the training job...\n",
      "2023-11-27 21:07:02 Starting - Preparing the instances for training............\n",
      "2023-11-27 21:08:45 Downloading - Downloading input data...\n",
      "2023-11-27 21:09:26 Training - Downloading the training image......\n",
      "2023-11-27 21:10:36 Training - Training image download completed. Training in progress....\n",
      "2023-11-27 21:11:07 Uploading - Uploading generated training model\u001b[34mDocker entrypoint called with argument(s): train\u001b[0m\n",
      "\u001b[34mRunning default environment configuration script\u001b[0m\n",
      "\u001b[34m[11/27/2023 21:10:54 INFO 140008149247808] Reading default configuration from /opt/amazon/lib/python3.8/site-packages/algorithm/resources/default-input.json: {'mini_batch_size': '1000', 'epochs': '15', 'feature_dim': 'auto', 'use_bias': 'true', 'binary_classifier_model_selection_criteria': 'accuracy', 'f_beta': '1.0', 'target_recall': '0.8', 'target_precision': '0.8', 'num_models': 'auto', 'num_calibration_samples': '10000000', 'init_method': 'uniform', 'init_scale': '0.07', 'init_sigma': '0.01', 'init_bias': '0.0', 'optimizer': 'auto', 'loss': 'auto', 'margin': '1.0', 'quantile': '0.5', 'loss_insensitivity': '0.01', 'huber_delta': '1.0', 'num_classes': '1', 'accuracy_top_k': '3', 'wd': 'auto', 'l1': 'auto', 'momentum': 'auto', 'learning_rate': 'auto', 'beta_1': 'auto', 'beta_2': 'auto', 'bias_lr_mult': 'auto', 'bias_wd_mult': 'auto', 'use_lr_scheduler': 'true', 'lr_scheduler_step': 'auto', 'lr_scheduler_factor': 'auto', 'lr_scheduler_minimum_lr': 'auto', 'positive_example_weight_mult': '1.0', 'balance_multiclass_weights': 'false', 'normalize_data': 'true', 'normalize_label': 'auto', 'unbias_data': 'auto', 'unbias_label': 'auto', 'num_point_for_scaler': '10000', '_kvstore': 'auto', '_num_gpus': 'auto', '_num_kv_servers': 'auto', '_log_level': 'info', '_tuning_objective_metric': '', 'early_stopping_patience': '3', 'early_stopping_tolerance': '0.001', '_enable_profiler': 'false'}\u001b[0m\n",
      "\u001b[34m[11/27/2023 21:10:54 INFO 140008149247808] Merging with provided configuration from /opt/ml/input/config/hyperparameters.json: {'epochs': '5', 'feature_dim': '1', 'loss': 'absolute_loss', 'mini_batch_size': '5', 'num_models': '32', 'predictor_type': 'regressor'}\u001b[0m\n",
      "\u001b[34m[11/27/2023 21:10:54 INFO 140008149247808] Final configuration: {'mini_batch_size': '5', 'epochs': '5', 'feature_dim': '1', 'use_bias': 'true', 'binary_classifier_model_selection_criteria': 'accuracy', 'f_beta': '1.0', 'target_recall': '0.8', 'target_precision': '0.8', 'num_models': '32', 'num_calibration_samples': '10000000', 'init_method': 'uniform', 'init_scale': '0.07', 'init_sigma': '0.01', 'init_bias': '0.0', 'optimizer': 'auto', 'loss': 'absolute_loss', 'margin': '1.0', 'quantile': '0.5', 'loss_insensitivity': '0.01', 'huber_delta': '1.0', 'num_classes': '1', 'accuracy_top_k': '3', 'wd': 'auto', 'l1': 'auto', 'momentum': 'auto', 'learning_rate': 'auto', 'beta_1': 'auto', 'beta_2': 'auto', 'bias_lr_mult': 'auto', 'bias_wd_mult': 'auto', 'use_lr_scheduler': 'true', 'lr_scheduler_step': 'auto', 'lr_scheduler_factor': 'auto', 'lr_scheduler_minimum_lr': 'auto', 'positive_example_weight_mult': '1.0', 'balance_multiclass_weights': 'false', 'normalize_data': 'true', 'normalize_label': 'auto', 'unbias_data': 'auto', 'unbias_label': 'auto', 'num_point_for_scaler': '10000', '_kvstore': 'auto', '_num_gpus': 'auto', '_num_kv_servers': 'auto', '_log_level': 'info', '_tuning_objective_metric': '', 'early_stopping_patience': '3', 'early_stopping_tolerance': '0.001', '_enable_profiler': 'false', 'predictor_type': 'regressor'}\u001b[0m\n",
      "\u001b[34m/opt/amazon/lib/python3.8/site-packages/mxnet/model.py:97: SyntaxWarning: \"is\" with a literal. Did you mean \"==\"?\n",
      "  if num_device is 1 and 'dist' not in kvstore:\u001b[0m\n",
      "\u001b[34m/opt/amazon/lib/python3.8/site-packages/scipy/optimize/_shgo.py:495: SyntaxWarning: \"is\" with a literal. Did you mean \"==\"?\n",
      "  if cons['type'] is 'ineq':\u001b[0m\n",
      "\u001b[34m/opt/amazon/lib/python3.8/site-packages/scipy/optimize/_shgo.py:743: SyntaxWarning: \"is not\" with a literal. Did you mean \"!=\"?\n",
      "  if len(self.X_min) is not 0:\u001b[0m\n",
      "\u001b[34m[11/27/2023 21:10:58 WARNING 140008149247808] Loggers have already been setup.\u001b[0m\n",
      "\u001b[34m[11/27/2023 21:10:58 INFO 140008149247808] Final configuration: {'mini_batch_size': '5', 'epochs': '5', 'feature_dim': '1', 'use_bias': 'true', 'binary_classifier_model_selection_criteria': 'accuracy', 'f_beta': '1.0', 'target_recall': '0.8', 'target_precision': '0.8', 'num_models': '32', 'num_calibration_samples': '10000000', 'init_method': 'uniform', 'init_scale': '0.07', 'init_sigma': '0.01', 'init_bias': '0.0', 'optimizer': 'auto', 'loss': 'absolute_loss', 'margin': '1.0', 'quantile': '0.5', 'loss_insensitivity': '0.01', 'huber_delta': '1.0', 'num_classes': '1', 'accuracy_top_k': '3', 'wd': 'auto', 'l1': 'auto', 'momentum': 'auto', 'learning_rate': 'auto', 'beta_1': 'auto', 'beta_2': 'auto', 'bias_lr_mult': 'auto', 'bias_wd_mult': 'auto', 'use_lr_scheduler': 'true', 'lr_scheduler_step': 'auto', 'lr_scheduler_factor': 'auto', 'lr_scheduler_minimum_lr': 'auto', 'positive_example_weight_mult': '1.0', 'balance_multiclass_weights': 'false', 'normalize_data': 'true', 'normalize_label': 'auto', 'unbias_data': 'auto', 'unbias_label': 'auto', 'num_point_for_scaler': '10000', '_kvstore': 'auto', '_num_gpus': 'auto', '_num_kv_servers': 'auto', '_log_level': 'info', '_tuning_objective_metric': '', 'early_stopping_patience': '3', 'early_stopping_tolerance': '0.001', '_enable_profiler': 'false', 'predictor_type': 'regressor'}\u001b[0m\n",
      "\u001b[34m[11/27/2023 21:10:58 WARNING 140008149247808] Loggers have already been setup.\u001b[0m\n",
      "\u001b[34mProcess 7 is a worker.\u001b[0m\n",
      "\u001b[34m[11/27/2023 21:10:58 INFO 140008149247808] Using default worker.\u001b[0m\n",
      "\u001b[34m[11/27/2023 21:10:58 INFO 140008149247808] Checkpoint loading and saving are disabled.\u001b[0m\n",
      "\u001b[34m[2023-11-27 21:10:58.422] [tensorio] [info] epoch_stats={\"data_pipeline\": \"/opt/ml/input/data/train\", \"epoch\": 0, \"duration\": 15, \"num_examples\": 1, \"num_bytes\": 240}\u001b[0m\n",
      "\u001b[34m[11/27/2023 21:10:58 INFO 140008149247808] Create Store: local\u001b[0m\n",
      "\u001b[34m[2023-11-27 21:10:58.554] [tensorio] [info] epoch_stats={\"data_pipeline\": \"/opt/ml/input/data/train\", \"epoch\": 1, \"duration\": 131, \"num_examples\": 16, \"num_bytes\": 3840}\u001b[0m\n",
      "\u001b[34m[11/27/2023 21:10:58 INFO 140008149247808] Scaler algorithm parameters\n",
      " <algorithm.scaler.ScalerAlgorithmStable object at 0x7f559f5364c0>\u001b[0m\n",
      "\u001b[34m[11/27/2023 21:10:58 INFO 140008149247808] Scaling model computed with parameters:\n",
      " {'stdev_label': \u001b[0m\n",
      "\u001b[34m[4.6420484]\u001b[0m\n",
      "\u001b[34m<NDArray 1 @cpu(0)>, 'stdev_weight': \u001b[0m\n",
      "\u001b[34m[63.20772]\u001b[0m\n",
      "\u001b[34m<NDArray 1 @cpu(0)>, 'mean_label': \u001b[0m\n",
      "\u001b[34m[23.48527]\u001b[0m\n",
      "\u001b[34m<NDArray 1 @cpu(0)>, 'mean_weight': \u001b[0m\n",
      "\u001b[34m[209.25179]\u001b[0m\n",
      "\u001b[34m<NDArray 1 @cpu(0)>}\u001b[0m\n",
      "\u001b[34m/opt/amazon/python3.8/lib/python3.8/subprocess.py:848: RuntimeWarning: line buffering (buffering=1) isn't supported in binary mode, the default buffer size will be used\n",
      "  self.stdout = io.open(c2pread, 'rb', bufsize)\u001b[0m\n",
      "\u001b[34m[11/27/2023 21:10:58 INFO 140008149247808] nvidia-smi: took 0.033 seconds to run.\u001b[0m\n",
      "\u001b[34m[11/27/2023 21:10:58 INFO 140008149247808] nvidia-smi identified 0 GPUs.\u001b[0m\n",
      "\u001b[34m[11/27/2023 21:10:58 INFO 140008149247808] Number of GPUs being used: 0\u001b[0m\n",
      "\u001b[34m#metrics {\"StartTime\": 1701119458.6752687, \"EndTime\": 1701119458.6753109, \"Dimensions\": {\"Algorithm\": \"Linear Learner\", \"Host\": \"algo-1\", \"Operation\": \"training\", \"Meta\": \"init_train_data_iter\"}, \"Metrics\": {\"Total Records Seen\": {\"sum\": 85.0, \"count\": 1, \"min\": 85, \"max\": 85}, \"Total Batches Seen\": {\"sum\": 17.0, \"count\": 1, \"min\": 17, \"max\": 17}, \"Max Records Seen Between Resets\": {\"sum\": 80.0, \"count\": 1, \"min\": 80, \"max\": 80}, \"Max Batches Seen Between Resets\": {\"sum\": 16.0, \"count\": 1, \"min\": 16, \"max\": 16}, \"Reset Count\": {\"sum\": 2.0, \"count\": 1, \"min\": 2, \"max\": 2}, \"Number of Records Since Last Reset\": {\"sum\": 0.0, \"count\": 1, \"min\": 0, \"max\": 0}, \"Number of Batches Since Last Reset\": {\"sum\": 0.0, \"count\": 1, \"min\": 0, \"max\": 0}}}\u001b[0m\n",
      "\u001b[34m[2023-11-27 21:10:59.060] [tensorio] [info] epoch_stats={\"data_pipeline\": \"/opt/ml/input/data/train\", \"epoch\": 4, \"duration\": 384, \"num_examples\": 16, \"num_bytes\": 3840}\u001b[0m\n",
      "\u001b[34m#metrics {\"StartTime\": 1701119459.060432, \"EndTime\": 1701119459.0605187, \"Dimensions\": {\"Algorithm\": \"Linear Learner\", \"Host\": \"algo-1\", \"Operation\": \"training\", \"epoch\": 0, \"model\": 0}, \"Metrics\": {\"train_absolute_loss_objective\": {\"sum\": 0.7838978171348572, \"count\": 1, \"min\": 0.7838978171348572, \"max\": 0.7838978171348572}}}\u001b[0m\n",
      "\u001b[34m#metrics {\"StartTime\": 1701119459.0606043, \"EndTime\": 1701119459.0606177, \"Dimensions\": {\"Algorithm\": \"Linear Learner\", \"Host\": \"algo-1\", \"Operation\": \"training\", \"epoch\": 0, \"model\": 1}, \"Metrics\": {\"train_absolute_loss_objective\": {\"sum\": 0.7685786113142967, \"count\": 1, \"min\": 0.7685786113142967, \"max\": 0.7685786113142967}}}\u001b[0m\n",
      "\u001b[34m#metrics {\"StartTime\": 1701119459.060677, \"EndTime\": 1701119459.060692, \"Dimensions\": {\"Algorithm\": \"Linear Learner\", \"Host\": \"algo-1\", \"Operation\": \"training\", \"epoch\": 0, \"model\": 2}, \"Metrics\": {\"train_absolute_loss_objective\": {\"sum\": 0.7817691892385483, \"count\": 1, \"min\": 0.7817691892385483, \"max\": 0.7817691892385483}}}\u001b[0m\n",
      "\u001b[34m#metrics {\"StartTime\": 1701119459.0607386, \"EndTime\": 1701119459.060753, \"Dimensions\": {\"Algorithm\": \"Linear Learner\", \"Host\": \"algo-1\", \"Operation\": \"training\", \"epoch\": 0, \"model\": 3}, \"Metrics\": {\"train_absolute_loss_objective\": {\"sum\": 0.7694719776511192, \"count\": 1, \"min\": 0.7694719776511192, \"max\": 0.7694719776511192}}}\u001b[0m\n",
      "\u001b[34m#metrics {\"StartTime\": 1701119459.0607998, \"EndTime\": 1701119459.0608103, \"Dimensions\": {\"Algorithm\": \"Linear Learner\", \"Host\": \"algo-1\", \"Operation\": \"training\", \"epoch\": 0, \"model\": 4}, \"Metrics\": {\"train_absolute_loss_objective\": {\"sum\": 0.5119431838393211, \"count\": 1, \"min\": 0.5119431838393211, \"max\": 0.5119431838393211}}}\u001b[0m\n",
      "\u001b[34m#metrics {\"StartTime\": 1701119459.0608497, \"EndTime\": 1701119459.0608647, \"Dimensions\": {\"Algorithm\": \"Linear Learner\", \"Host\": \"algo-1\", \"Operation\": \"training\", \"epoch\": 0, \"model\": 5}, \"Metrics\": {\"train_absolute_loss_objective\": {\"sum\": 0.5072968989610672, \"count\": 1, \"min\": 0.5072968989610672, \"max\": 0.5072968989610672}}}\u001b[0m\n",
      "\u001b[34m#metrics {\"StartTime\": 1701119459.0609155, \"EndTime\": 1701119459.0609317, \"Dimensions\": {\"Algorithm\": \"Linear Learner\", \"Host\": \"algo-1\", \"Operation\": \"training\", \"epoch\": 0, \"model\": 6}, \"Metrics\": {\"train_absolute_loss_objective\": {\"sum\": 0.5064559936523437, \"count\": 1, \"min\": 0.5064559936523437, \"max\": 0.5064559936523437}}}\u001b[0m\n",
      "\u001b[34m#metrics {\"StartTime\": 1701119459.0609815, \"EndTime\": 1701119459.0609922, \"Dimensions\": {\"Algorithm\": \"Linear Learner\", \"Host\": \"algo-1\", \"Operation\": \"training\", \"epoch\": 0, \"model\": 7}, \"Metrics\": {\"train_absolute_loss_objective\": {\"sum\": 0.5506400823593139, \"count\": 1, \"min\": 0.5506400823593139, \"max\": 0.5506400823593139}}}\u001b[0m\n",
      "\u001b[34m#metrics {\"StartTime\": 1701119459.06102, \"EndTime\": 1701119459.0610275, \"Dimensions\": {\"Algorithm\": \"Linear Learner\", \"Host\": \"algo-1\", \"Operation\": \"training\", \"epoch\": 0, \"model\": 8}, \"Metrics\": {\"train_absolute_loss_objective\": {\"sum\": 0.7370475023984909, \"count\": 1, \"min\": 0.7370475023984909, \"max\": 0.7370475023984909}}}\u001b[0m\n",
      "\u001b[34m#metrics {\"StartTime\": 1701119459.0610688, \"EndTime\": 1701119459.0610852, \"Dimensions\": {\"Algorithm\": \"Linear Learner\", \"Host\": \"algo-1\", \"Operation\": \"training\", \"epoch\": 0, \"model\": 9}, \"Metrics\": {\"train_absolute_loss_objective\": {\"sum\": 0.7951103195548057, \"count\": 1, \"min\": 0.7951103195548057, \"max\": 0.7951103195548057}}}\u001b[0m\n",
      "\u001b[34m#metrics {\"StartTime\": 1701119459.0611415, \"EndTime\": 1701119459.0611582, \"Dimensions\": {\"Algorithm\": \"Linear Learner\", \"Host\": \"algo-1\", \"Operation\": \"training\", \"epoch\": 0, \"model\": 10}, \"Metrics\": {\"train_absolute_loss_objective\": {\"sum\": 0.78916055560112, \"count\": 1, \"min\": 0.78916055560112, \"max\": 0.78916055560112}}}\u001b[0m\n",
      "\u001b[34m#metrics {\"StartTime\": 1701119459.061193, \"EndTime\": 1701119459.0612016, \"Dimensions\": {\"Algorithm\": \"Linear Learner\", \"Host\": \"algo-1\", \"Operation\": \"training\", \"epoch\": 0, \"model\": 11}, \"Metrics\": {\"train_absolute_loss_objective\": {\"sum\": 0.8023861899971962, \"count\": 1, \"min\": 0.8023861899971962, \"max\": 0.8023861899971962}}}\u001b[0m\n",
      "\u001b[34m#metrics {\"StartTime\": 1701119459.061227, \"EndTime\": 1701119459.0612345, \"Dimensions\": {\"Algorithm\": \"Linear Learner\", \"Host\": \"algo-1\", \"Operation\": \"training\", \"epoch\": 0, \"model\": 12}, \"Metrics\": {\"train_absolute_loss_objective\": {\"sum\": 0.5073018595576286, \"count\": 1, \"min\": 0.5073018595576286, \"max\": 0.5073018595576286}}}\u001b[0m\n",
      "\u001b[34m#metrics {\"StartTime\": 1701119459.061272, \"EndTime\": 1701119459.0612872, \"Dimensions\": {\"Algorithm\": \"Linear Learner\", \"Host\": \"algo-1\", \"Operation\": \"training\", \"epoch\": 0, \"model\": 13}, \"Metrics\": {\"train_absolute_loss_objective\": {\"sum\": 0.49015118181705475, \"count\": 1, \"min\": 0.49015118181705475, \"max\": 0.49015118181705475}}}\u001b[0m\n",
      "\u001b[34m#metrics {\"StartTime\": 1701119459.0613446, \"EndTime\": 1701119459.0613623, \"Dimensions\": {\"Algorithm\": \"Linear Learner\", \"Host\": \"algo-1\", \"Operation\": \"training\", \"epoch\": 0, \"model\": 14}, \"Metrics\": {\"train_absolute_loss_objective\": {\"sum\": 0.5080824375152588, \"count\": 1, \"min\": 0.5080824375152588, \"max\": 0.5080824375152588}}}\u001b[0m\n",
      "\u001b[34m#metrics {\"StartTime\": 1701119459.0614088, \"EndTime\": 1701119459.0614197, \"Dimensions\": {\"Algorithm\": \"Linear Learner\", \"Host\": \"algo-1\", \"Operation\": \"training\", \"epoch\": 0, \"model\": 15}, \"Metrics\": {\"train_absolute_loss_objective\": {\"sum\": 0.4870882824063301, \"count\": 1, \"min\": 0.4870882824063301, \"max\": 0.4870882824063301}}}\u001b[0m\n",
      "\u001b[34m#metrics {\"StartTime\": 1701119459.06145, \"EndTime\": 1701119459.061458, \"Dimensions\": {\"Algorithm\": \"Linear Learner\", \"Host\": \"algo-1\", \"Operation\": \"training\", \"epoch\": 0, \"model\": 16}, \"Metrics\": {\"train_absolute_loss_objective\": {\"sum\": 0.816727203130722, \"count\": 1, \"min\": 0.816727203130722, \"max\": 0.816727203130722}}}\u001b[0m\n",
      "\u001b[34m#metrics {\"StartTime\": 1701119459.061483, \"EndTime\": 1701119459.061495, \"Dimensions\": {\"Algorithm\": \"Linear Learner\", \"Host\": \"algo-1\", \"Operation\": \"training\", \"epoch\": 0, \"model\": 17}, \"Metrics\": {\"train_absolute_loss_objective\": {\"sum\": 0.7729802951216698, \"count\": 1, \"min\": 0.7729802951216698, \"max\": 0.7729802951216698}}}\u001b[0m\n",
      "\u001b[34m#metrics {\"StartTime\": 1701119459.0615432, \"EndTime\": 1701119459.0615594, \"Dimensions\": {\"Algorithm\": \"Linear Learner\", \"Host\": \"algo-1\", \"Operation\": \"training\", \"epoch\": 0, \"model\": 18}, \"Metrics\": {\"train_absolute_loss_objective\": {\"sum\": 0.7925797894597053, \"count\": 1, \"min\": 0.7925797894597053, \"max\": 0.7925797894597053}}}\u001b[0m\n",
      "\u001b[34m#metrics {\"StartTime\": 1701119459.061611, \"EndTime\": 1701119459.0616274, \"Dimensions\": {\"Algorithm\": \"Linear Learner\", \"Host\": \"algo-1\", \"Operation\": \"training\", \"epoch\": 0, \"model\": 19}, \"Metrics\": {\"train_absolute_loss_objective\": {\"sum\": 0.7949333176016807, \"count\": 1, \"min\": 0.7949333176016807, \"max\": 0.7949333176016807}}}\u001b[0m\n",
      "\u001b[34m#metrics {\"StartTime\": 1701119459.061675, \"EndTime\": 1701119459.061686, \"Dimensions\": {\"Algorithm\": \"Linear Learner\", \"Host\": \"algo-1\", \"Operation\": \"training\", \"epoch\": 0, \"model\": 20}, \"Metrics\": {\"train_absolute_loss_objective\": {\"sum\": 0.5271546974778175, \"count\": 1, \"min\": 0.5271546974778175, \"max\": 0.5271546974778175}}}\u001b[0m\n",
      "\u001b[34m#metrics {\"StartTime\": 1701119459.0617166, \"EndTime\": 1701119459.0617244, \"Dimensions\": {\"Algorithm\": \"Linear Learner\", \"Host\": \"algo-1\", \"Operation\": \"training\", \"epoch\": 0, \"model\": 21}, \"Metrics\": {\"train_absolute_loss_objective\": {\"sum\": 0.636797034740448, \"count\": 1, \"min\": 0.636797034740448, \"max\": 0.636797034740448}}}\u001b[0m\n",
      "\u001b[34m#metrics {\"StartTime\": 1701119459.0617533, \"EndTime\": 1701119459.0617664, \"Dimensions\": {\"Algorithm\": \"Linear Learner\", \"Host\": \"algo-1\", \"Operation\": \"training\", \"epoch\": 0, \"model\": 22}, \"Metrics\": {\"train_absolute_loss_objective\": {\"sum\": 0.5514811143279076, \"count\": 1, \"min\": 0.5514811143279076, \"max\": 0.5514811143279076}}}\u001b[0m\n",
      "\u001b[34m#metrics {\"StartTime\": 1701119459.061814, \"EndTime\": 1701119459.0618308, \"Dimensions\": {\"Algorithm\": \"Linear Learner\", \"Host\": \"algo-1\", \"Operation\": \"training\", \"epoch\": 0, \"model\": 23}, \"Metrics\": {\"train_absolute_loss_objective\": {\"sum\": 0.6259401306509972, \"count\": 1, \"min\": 0.6259401306509972, \"max\": 0.6259401306509972}}}\u001b[0m\n",
      "\u001b[34m#metrics {\"StartTime\": 1701119459.0618804, \"EndTime\": 1701119459.061896, \"Dimensions\": {\"Algorithm\": \"Linear Learner\", \"Host\": \"algo-1\", \"Operation\": \"training\", \"epoch\": 0, \"model\": 24}, \"Metrics\": {\"train_absolute_loss_objective\": {\"sum\": 0.8286160081624985, \"count\": 1, \"min\": 0.8286160081624985, \"max\": 0.8286160081624985}}}\u001b[0m\n",
      "\u001b[34m#metrics {\"StartTime\": 1701119459.061937, \"EndTime\": 1701119459.0619469, \"Dimensions\": {\"Algorithm\": \"Linear Learner\", \"Host\": \"algo-1\", \"Operation\": \"training\", \"epoch\": 0, \"model\": 25}, \"Metrics\": {\"train_absolute_loss_objective\": {\"sum\": 0.7983463153243064, \"count\": 1, \"min\": 0.7983463153243064, \"max\": 0.7983463153243064}}}\u001b[0m\n",
      "\u001b[34m#metrics {\"StartTime\": 1701119459.061974, \"EndTime\": 1701119459.0619879, \"Dimensions\": {\"Algorithm\": \"Linear Learner\", \"Host\": \"algo-1\", \"Operation\": \"training\", \"epoch\": 0, \"model\": 26}, \"Metrics\": {\"train_absolute_loss_objective\": {\"sum\": 0.7982575416564941, \"count\": 1, \"min\": 0.7982575416564941, \"max\": 0.7982575416564941}}}\u001b[0m\n",
      "\u001b[34m#metrics {\"StartTime\": 1701119459.0620356, \"EndTime\": 1701119459.062051, \"Dimensions\": {\"Algorithm\": \"Linear Learner\", \"Host\": \"algo-1\", \"Operation\": \"training\", \"epoch\": 0, \"model\": 27}, \"Metrics\": {\"train_absolute_loss_objective\": {\"sum\": 0.7995023533701897, \"count\": 1, \"min\": 0.7995023533701897, \"max\": 0.7995023533701897}}}\u001b[0m\n",
      "\u001b[34m#metrics {\"StartTime\": 1701119459.0621002, \"EndTime\": 1701119459.0621166, \"Dimensions\": {\"Algorithm\": \"Linear Learner\", \"Host\": \"algo-1\", \"Operation\": \"training\", \"epoch\": 0, \"model\": 28}, \"Metrics\": {\"train_absolute_loss_objective\": {\"sum\": 0.8625645101070404, \"count\": 1, \"min\": 0.8625645101070404, \"max\": 0.8625645101070404}}}\u001b[0m\n",
      "\u001b[34m#metrics {\"StartTime\": 1701119459.0621555, \"EndTime\": 1701119459.0621648, \"Dimensions\": {\"Algorithm\": \"Linear Learner\", \"Host\": \"algo-1\", \"Operation\": \"training\", \"epoch\": 0, \"model\": 29}, \"Metrics\": {\"train_absolute_loss_objective\": {\"sum\": 0.8632506877183914, \"count\": 1, \"min\": 0.8632506877183914, \"max\": 0.8632506877183914}}}\u001b[0m\n",
      "\u001b[34m#metrics {\"StartTime\": 1701119459.0622017, \"EndTime\": 1701119459.0622175, \"Dimensions\": {\"Algorithm\": \"Linear Learner\", \"Host\": \"algo-1\", \"Operation\": \"training\", \"epoch\": 0, \"model\": 30}, \"Metrics\": {\"train_absolute_loss_objective\": {\"sum\": 0.8586293913424015, \"count\": 1, \"min\": 0.8586293913424015, \"max\": 0.8586293913424015}}}\u001b[0m\n",
      "\u001b[34m#metrics {\"StartTime\": 1701119459.0622668, \"EndTime\": 1701119459.0622845, \"Dimensions\": {\"Algorithm\": \"Linear Learner\", \"Host\": \"algo-1\", \"Operation\": \"training\", \"epoch\": 0, \"model\": 31}, \"Metrics\": {\"train_absolute_loss_objective\": {\"sum\": 0.8611209690570831, \"count\": 1, \"min\": 0.8611209690570831, \"max\": 0.8611209690570831}}}\u001b[0m\n",
      "\u001b[34m[11/27/2023 21:10:59 INFO 140008149247808] #quality_metric: host=algo-1, epoch=0, train absolute_loss_objective <loss>=0.7838978171348572\u001b[0m\n",
      "\u001b[34m[11/27/2023 21:10:59 INFO 140008149247808] #early_stopping_criteria_metric: host=algo-1, epoch=0, criteria=absolute_loss_objective, value=0.4870882824063301\u001b[0m\n",
      "\u001b[34m[11/27/2023 21:10:59 INFO 140008149247808] Epoch 0: Loss improved. Updating best model\u001b[0m\n",
      "\u001b[34m[11/27/2023 21:10:59 INFO 140008149247808] Saving model for epoch: 0\u001b[0m\n",
      "\u001b[34m[11/27/2023 21:10:59 INFO 140008149247808] Saved checkpoint to \"/tmp/tmprquxjr8g/mx-mod-0000.params\"\u001b[0m\n",
      "\u001b[34m[11/27/2023 21:10:59 INFO 140008149247808] #progress_metric: host=algo-1, completed 20.0 % of epochs\u001b[0m\n",
      "\u001b[34m#metrics {\"StartTime\": 1701119458.6756585, \"EndTime\": 1701119459.073275, \"Dimensions\": {\"Algorithm\": \"Linear Learner\", \"Host\": \"algo-1\", \"Operation\": \"training\", \"epoch\": 0, \"Meta\": \"training_data_iter\"}, \"Metrics\": {\"Total Records Seen\": {\"sum\": 165.0, \"count\": 1, \"min\": 165, \"max\": 165}, \"Total Batches Seen\": {\"sum\": 33.0, \"count\": 1, \"min\": 33, \"max\": 33}, \"Max Records Seen Between Resets\": {\"sum\": 80.0, \"count\": 1, \"min\": 80, \"max\": 80}, \"Max Batches Seen Between Resets\": {\"sum\": 16.0, \"count\": 1, \"min\": 16, \"max\": 16}, \"Reset Count\": {\"sum\": 3.0, \"count\": 1, \"min\": 3, \"max\": 3}, \"Number of Records Since Last Reset\": {\"sum\": 80.0, \"count\": 1, \"min\": 80, \"max\": 80}, \"Number of Batches Since Last Reset\": {\"sum\": 16.0, \"count\": 1, \"min\": 16, \"max\": 16}}}\u001b[0m\n",
      "\u001b[34m[11/27/2023 21:10:59 INFO 140008149247808] #throughput_metric: host=algo-1, train throughput=201.1227339968208 records/second\u001b[0m\n",
      "\u001b[34m[2023-11-27 21:10:59.385] [tensorio] [info] epoch_stats={\"data_pipeline\": \"/opt/ml/input/data/train\", \"epoch\": 6, \"duration\": 311, \"num_examples\": 16, \"num_bytes\": 3840}\u001b[0m\n",
      "\u001b[34m#metrics {\"StartTime\": 1701119459.3851902, \"EndTime\": 1701119459.3852873, \"Dimensions\": {\"Algorithm\": \"Linear Learner\", \"Host\": \"algo-1\", \"Operation\": \"training\", \"epoch\": 1, \"model\": 0}, \"Metrics\": {\"train_absolute_loss_objective\": {\"sum\": 0.7313696093857288, \"count\": 1, \"min\": 0.7313696093857288, \"max\": 0.7313696093857288}}}\u001b[0m\n",
      "\u001b[34m#metrics {\"StartTime\": 1701119459.385407, \"EndTime\": 1701119459.3854291, \"Dimensions\": {\"Algorithm\": \"Linear Learner\", \"Host\": \"algo-1\", \"Operation\": \"training\", \"epoch\": 1, \"model\": 1}, \"Metrics\": {\"train_absolute_loss_objective\": {\"sum\": 0.7129714049398899, \"count\": 1, \"min\": 0.7129714049398899, \"max\": 0.7129714049398899}}}\u001b[0m\n",
      "\u001b[34m#metrics {\"StartTime\": 1701119459.3854842, \"EndTime\": 1701119459.385501, \"Dimensions\": {\"Algorithm\": \"Linear Learner\", \"Host\": \"algo-1\", \"Operation\": \"training\", \"epoch\": 1, \"model\": 2}, \"Metrics\": {\"train_absolute_loss_objective\": {\"sum\": 0.7293066203594207, \"count\": 1, \"min\": 0.7293066203594207, \"max\": 0.7293066203594207}}}\u001b[0m\n",
      "\u001b[34m#metrics {\"StartTime\": 1701119459.3855653, \"EndTime\": 1701119459.3855836, \"Dimensions\": {\"Algorithm\": \"Linear Learner\", \"Host\": \"algo-1\", \"Operation\": \"training\", \"epoch\": 1, \"model\": 3}, \"Metrics\": {\"train_absolute_loss_objective\": {\"sum\": 0.7138470619916916, \"count\": 1, \"min\": 0.7138470619916916, \"max\": 0.7138470619916916}}}\u001b[0m\n",
      "\u001b[34m#metrics {\"StartTime\": 1701119459.3856485, \"EndTime\": 1701119459.385666, \"Dimensions\": {\"Algorithm\": \"Linear Learner\", \"Host\": \"algo-1\", \"Operation\": \"training\", \"epoch\": 1, \"model\": 4}, \"Metrics\": {\"train_absolute_loss_objective\": {\"sum\": 0.3023213520646095, \"count\": 1, \"min\": 0.3023213520646095, \"max\": 0.3023213520646095}}}\u001b[0m\n",
      "\u001b[34m#metrics {\"StartTime\": 1701119459.3857226, \"EndTime\": 1701119459.3857403, \"Dimensions\": {\"Algorithm\": \"Linear Learner\", \"Host\": \"algo-1\", \"Operation\": \"training\", \"epoch\": 1, \"model\": 5}, \"Metrics\": {\"train_absolute_loss_objective\": {\"sum\": 0.311209075525403, \"count\": 1, \"min\": 0.311209075525403, \"max\": 0.311209075525403}}}\u001b[0m\n",
      "\u001b[34m#metrics {\"StartTime\": 1701119459.385807, \"EndTime\": 1701119459.385823, \"Dimensions\": {\"Algorithm\": \"Linear Learner\", \"Host\": \"algo-1\", \"Operation\": \"training\", \"epoch\": 1, \"model\": 6}, \"Metrics\": {\"train_absolute_loss_objective\": {\"sum\": 0.31945997327566145, \"count\": 1, \"min\": 0.31945997327566145, \"max\": 0.31945997327566145}}}\u001b[0m\n",
      "\u001b[34m#metrics {\"StartTime\": 1701119459.3858814, \"EndTime\": 1701119459.3858974, \"Dimensions\": {\"Algorithm\": \"Linear Learner\", \"Host\": \"algo-1\", \"Operation\": \"training\", \"epoch\": 1, \"model\": 7}, \"Metrics\": {\"train_absolute_loss_objective\": {\"sum\": 0.3270372927188873, \"count\": 1, \"min\": 0.3270372927188873, \"max\": 0.3270372927188873}}}\u001b[0m\n",
      "\u001b[34m#metrics {\"StartTime\": 1701119459.3859487, \"EndTime\": 1701119459.3859653, \"Dimensions\": {\"Algorithm\": \"Linear Learner\", \"Host\": \"algo-1\", \"Operation\": \"training\", \"epoch\": 1, \"model\": 8}, \"Metrics\": {\"train_absolute_loss_objective\": {\"sum\": 0.6823842823505402, \"count\": 1, \"min\": 0.6823842823505402, \"max\": 0.6823842823505402}}}\u001b[0m\n",
      "\u001b[34m#metrics {\"StartTime\": 1701119459.386016, \"EndTime\": 1701119459.386033, \"Dimensions\": {\"Algorithm\": \"Linear Learner\", \"Host\": \"algo-1\", \"Operation\": \"training\", \"epoch\": 1, \"model\": 9}, \"Metrics\": {\"train_absolute_loss_objective\": {\"sum\": 0.7378713846206665, \"count\": 1, \"min\": 0.7378713846206665, \"max\": 0.7378713846206665}}}\u001b[0m\n",
      "\u001b[34m#metrics {\"StartTime\": 1701119459.386086, \"EndTime\": 1701119459.3861034, \"Dimensions\": {\"Algorithm\": \"Linear Learner\", \"Host\": \"algo-1\", \"Operation\": \"training\", \"epoch\": 1, \"model\": 10}, \"Metrics\": {\"train_absolute_loss_objective\": {\"sum\": 0.7324553042650223, \"count\": 1, \"min\": 0.7324553042650223, \"max\": 0.7324553042650223}}}\u001b[0m\n",
      "\u001b[34m#metrics {\"StartTime\": 1701119459.386158, \"EndTime\": 1701119459.386175, \"Dimensions\": {\"Algorithm\": \"Linear Learner\", \"Host\": \"algo-1\", \"Operation\": \"training\", \"epoch\": 1, \"model\": 11}, \"Metrics\": {\"train_absolute_loss_objective\": {\"sum\": 0.7449891693890095, \"count\": 1, \"min\": 0.7449891693890095, \"max\": 0.7449891693890095}}}\u001b[0m\n",
      "\u001b[34m#metrics {\"StartTime\": 1701119459.3862395, \"EndTime\": 1701119459.3862576, \"Dimensions\": {\"Algorithm\": \"Linear Learner\", \"Host\": \"algo-1\", \"Operation\": \"training\", \"epoch\": 1, \"model\": 12}, \"Metrics\": {\"train_absolute_loss_objective\": {\"sum\": 0.30399873554706575, \"count\": 1, \"min\": 0.30399873554706575, \"max\": 0.30399873554706575}}}\u001b[0m\n",
      "\u001b[34m#metrics {\"StartTime\": 1701119459.3863094, \"EndTime\": 1701119459.3863254, \"Dimensions\": {\"Algorithm\": \"Linear Learner\", \"Host\": \"algo-1\", \"Operation\": \"training\", \"epoch\": 1, \"model\": 13}, \"Metrics\": {\"train_absolute_loss_objective\": {\"sum\": 0.32891047149896624, \"count\": 1, \"min\": 0.32891047149896624, \"max\": 0.32891047149896624}}}\u001b[0m\n",
      "\u001b[34m#metrics {\"StartTime\": 1701119459.3863947, \"EndTime\": 1701119459.3864114, \"Dimensions\": {\"Algorithm\": \"Linear Learner\", \"Host\": \"algo-1\", \"Operation\": \"training\", \"epoch\": 1, \"model\": 14}, \"Metrics\": {\"train_absolute_loss_objective\": {\"sum\": 0.30354361087083814, \"count\": 1, \"min\": 0.30354361087083814, \"max\": 0.30354361087083814}}}\u001b[0m\n",
      "\u001b[34m#metrics {\"StartTime\": 1701119459.386464, \"EndTime\": 1701119459.3864803, \"Dimensions\": {\"Algorithm\": \"Linear Learner\", \"Host\": \"algo-1\", \"Operation\": \"training\", \"epoch\": 1, \"model\": 15}, \"Metrics\": {\"train_absolute_loss_objective\": {\"sum\": 0.3307619750499725, \"count\": 1, \"min\": 0.3307619750499725, \"max\": 0.3307619750499725}}}\u001b[0m\n",
      "\u001b[34m#metrics {\"StartTime\": 1701119459.3865314, \"EndTime\": 1701119459.386547, \"Dimensions\": {\"Algorithm\": \"Linear Learner\", \"Host\": \"algo-1\", \"Operation\": \"training\", \"epoch\": 1, \"model\": 16}, \"Metrics\": {\"train_absolute_loss_objective\": {\"sum\": 0.7600786030292511, \"count\": 1, \"min\": 0.7600786030292511, \"max\": 0.7600786030292511}}}\u001b[0m\n",
      "\u001b[34m#metrics {\"StartTime\": 1701119459.3866153, \"EndTime\": 1701119459.3866324, \"Dimensions\": {\"Algorithm\": \"Linear Learner\", \"Host\": \"algo-1\", \"Operation\": \"training\", \"epoch\": 1, \"model\": 17}, \"Metrics\": {\"train_absolute_loss_objective\": {\"sum\": 0.7188463322818279, \"count\": 1, \"min\": 0.7188463322818279, \"max\": 0.7188463322818279}}}\u001b[0m\n",
      "\u001b[34m#metrics {\"StartTime\": 1701119459.3866858, \"EndTime\": 1701119459.3867018, \"Dimensions\": {\"Algorithm\": \"Linear Learner\", \"Host\": \"algo-1\", \"Operation\": \"training\", \"epoch\": 1, \"model\": 18}, \"Metrics\": {\"train_absolute_loss_objective\": {\"sum\": 0.7368432059884071, \"count\": 1, \"min\": 0.7368432059884071, \"max\": 0.7368432059884071}}}\u001b[0m\n",
      "\u001b[34m#metrics {\"StartTime\": 1701119459.3867574, \"EndTime\": 1701119459.3867736, \"Dimensions\": {\"Algorithm\": \"Linear Learner\", \"Host\": \"algo-1\", \"Operation\": \"training\", \"epoch\": 1, \"model\": 19}, \"Metrics\": {\"train_absolute_loss_objective\": {\"sum\": 0.7387218065559864, \"count\": 1, \"min\": 0.7387218065559864, \"max\": 0.7387218065559864}}}\u001b[0m\n",
      "\u001b[34m#metrics {\"StartTime\": 1701119459.3868315, \"EndTime\": 1701119459.3868477, \"Dimensions\": {\"Algorithm\": \"Linear Learner\", \"Host\": \"algo-1\", \"Operation\": \"training\", \"epoch\": 1, \"model\": 20}, \"Metrics\": {\"train_absolute_loss_objective\": {\"sum\": 0.3823623672127724, \"count\": 1, \"min\": 0.3823623672127724, \"max\": 0.3823623672127724}}}\u001b[0m\n",
      "\u001b[34m#metrics {\"StartTime\": 1701119459.3869019, \"EndTime\": 1701119459.3869178, \"Dimensions\": {\"Algorithm\": \"Linear Learner\", \"Host\": \"algo-1\", \"Operation\": \"training\", \"epoch\": 1, \"model\": 21}, \"Metrics\": {\"train_absolute_loss_objective\": {\"sum\": 0.5449090987443924, \"count\": 1, \"min\": 0.5449090987443924, \"max\": 0.5449090987443924}}}\u001b[0m\n",
      "\u001b[34m#metrics {\"StartTime\": 1701119459.3869839, \"EndTime\": 1701119459.3870275, \"Dimensions\": {\"Algorithm\": \"Linear Learner\", \"Host\": \"algo-1\", \"Operation\": \"training\", \"epoch\": 1, \"model\": 22}, \"Metrics\": {\"train_absolute_loss_objective\": {\"sum\": 0.39038163647055624, \"count\": 1, \"min\": 0.39038163647055624, \"max\": 0.39038163647055624}}}\u001b[0m\n",
      "\u001b[34m#metrics {\"StartTime\": 1701119459.387137, \"EndTime\": 1701119459.3871598, \"Dimensions\": {\"Algorithm\": \"Linear Learner\", \"Host\": \"algo-1\", \"Operation\": \"training\", \"epoch\": 1, \"model\": 23}, \"Metrics\": {\"train_absolute_loss_objective\": {\"sum\": 0.5505897104740143, \"count\": 1, \"min\": 0.5505897104740143, \"max\": 0.5505897104740143}}}\u001b[0m\n",
      "\u001b[34m#metrics {\"StartTime\": 1701119459.3872836, \"EndTime\": 1701119459.3873045, \"Dimensions\": {\"Algorithm\": \"Linear Learner\", \"Host\": \"algo-1\", \"Operation\": \"training\", \"epoch\": 1, \"model\": 24}, \"Metrics\": {\"train_absolute_loss_objective\": {\"sum\": 0.7896029815077782, \"count\": 1, \"min\": 0.7896029815077782, \"max\": 0.7896029815077782}}}\u001b[0m\n",
      "\u001b[34m#metrics {\"StartTime\": 1701119459.3874433, \"EndTime\": 1701119459.3874671, \"Dimensions\": {\"Algorithm\": \"Linear Learner\", \"Host\": \"algo-1\", \"Operation\": \"training\", \"epoch\": 1, \"model\": 25}, \"Metrics\": {\"train_absolute_loss_objective\": {\"sum\": 0.7949526064097882, \"count\": 1, \"min\": 0.7949526064097882, \"max\": 0.7949526064097882}}}\u001b[0m\n",
      "\u001b[34m#metrics {\"StartTime\": 1701119459.387564, \"EndTime\": 1701119459.3875763, \"Dimensions\": {\"Algorithm\": \"Linear Learner\", \"Host\": \"algo-1\", \"Operation\": \"training\", \"epoch\": 1, \"model\": 26}, \"Metrics\": {\"train_absolute_loss_objective\": {\"sum\": 0.7968319416046142, \"count\": 1, \"min\": 0.7968319416046142, \"max\": 0.7968319416046142}}}\u001b[0m\n",
      "\u001b[34m#metrics {\"StartTime\": 1701119459.387636, \"EndTime\": 1701119459.3876536, \"Dimensions\": {\"Algorithm\": \"Linear Learner\", \"Host\": \"algo-1\", \"Operation\": \"training\", \"epoch\": 1, \"model\": 27}, \"Metrics\": {\"train_absolute_loss_objective\": {\"sum\": 0.7964944936335087, \"count\": 1, \"min\": 0.7964944936335087, \"max\": 0.7964944936335087}}}\u001b[0m\n",
      "\u001b[34m#metrics {\"StartTime\": 1701119459.3877141, \"EndTime\": 1701119459.3877327, \"Dimensions\": {\"Algorithm\": \"Linear Learner\", \"Host\": \"algo-1\", \"Operation\": \"training\", \"epoch\": 1, \"model\": 28}, \"Metrics\": {\"train_absolute_loss_objective\": {\"sum\": 0.8288142591714859, \"count\": 1, \"min\": 0.8288142591714859, \"max\": 0.8288142591714859}}}\u001b[0m\n",
      "\u001b[34m#metrics {\"StartTime\": 1701119459.3877964, \"EndTime\": 1701119459.387815, \"Dimensions\": {\"Algorithm\": \"Linear Learner\", \"Host\": \"algo-1\", \"Operation\": \"training\", \"epoch\": 1, \"model\": 29}, \"Metrics\": {\"train_absolute_loss_objective\": {\"sum\": 0.8306394398212433, \"count\": 1, \"min\": 0.8306394398212433, \"max\": 0.8306394398212433}}}\u001b[0m\n",
      "\u001b[34m#metrics {\"StartTime\": 1701119459.3878696, \"EndTime\": 1701119459.3878841, \"Dimensions\": {\"Algorithm\": \"Linear Learner\", \"Host\": \"algo-1\", \"Operation\": \"training\", \"epoch\": 1, \"model\": 30}, \"Metrics\": {\"train_absolute_loss_objective\": {\"sum\": 0.8326703980565071, \"count\": 1, \"min\": 0.8326703980565071, \"max\": 0.8326703980565071}}}\u001b[0m\n",
      "\u001b[34m#metrics {\"StartTime\": 1701119459.387924, \"EndTime\": 1701119459.3879392, \"Dimensions\": {\"Algorithm\": \"Linear Learner\", \"Host\": \"algo-1\", \"Operation\": \"training\", \"epoch\": 1, \"model\": 31}, \"Metrics\": {\"train_absolute_loss_objective\": {\"sum\": 0.8303955793380737, \"count\": 1, \"min\": 0.8303955793380737, \"max\": 0.8303955793380737}}}\u001b[0m\n",
      "\u001b[34m[11/27/2023 21:10:59 INFO 140008149247808] #quality_metric: host=algo-1, epoch=1, train absolute_loss_objective <loss>=0.7313696093857288\u001b[0m\n",
      "\u001b[34m[11/27/2023 21:10:59 INFO 140008149247808] #early_stopping_criteria_metric: host=algo-1, epoch=1, criteria=absolute_loss_objective, value=0.3023213520646095\u001b[0m\n",
      "\u001b[34m[11/27/2023 21:10:59 INFO 140008149247808] Epoch 1: Loss improved. Updating best model\u001b[0m\n",
      "\u001b[34m[11/27/2023 21:10:59 INFO 140008149247808] Saving model for epoch: 1\u001b[0m\n",
      "\u001b[34m[11/27/2023 21:10:59 INFO 140008149247808] Saved checkpoint to \"/tmp/tmpyh9p3oo3/mx-mod-0000.params\"\u001b[0m\n",
      "\u001b[34m[11/27/2023 21:10:59 INFO 140008149247808] #progress_metric: host=algo-1, completed 40.0 % of epochs\u001b[0m\n",
      "\u001b[34m#metrics {\"StartTime\": 1701119459.0736096, \"EndTime\": 1701119459.3973272, \"Dimensions\": {\"Algorithm\": \"Linear Learner\", \"Host\": \"algo-1\", \"Operation\": \"training\", \"epoch\": 1, \"Meta\": \"training_data_iter\"}, \"Metrics\": {\"Total Records Seen\": {\"sum\": 245.0, \"count\": 1, \"min\": 245, \"max\": 245}, \"Total Batches Seen\": {\"sum\": 49.0, \"count\": 1, \"min\": 49, \"max\": 49}, \"Max Records Seen Between Resets\": {\"sum\": 80.0, \"count\": 1, \"min\": 80, \"max\": 80}, \"Max Batches Seen Between Resets\": {\"sum\": 16.0, \"count\": 1, \"min\": 16, \"max\": 16}, \"Reset Count\": {\"sum\": 4.0, \"count\": 1, \"min\": 4, \"max\": 4}, \"Number of Records Since Last Reset\": {\"sum\": 80.0, \"count\": 1, \"min\": 80, \"max\": 80}, \"Number of Batches Since Last Reset\": {\"sum\": 16.0, \"count\": 1, \"min\": 16, \"max\": 16}}}\u001b[0m\n",
      "\u001b[34m[11/27/2023 21:10:59 INFO 140008149247808] #throughput_metric: host=algo-1, train throughput=247.00545990316897 records/second\u001b[0m\n",
      "\u001b[34m[2023-11-27 21:10:59.720] [tensorio] [info] epoch_stats={\"data_pipeline\": \"/opt/ml/input/data/train\", \"epoch\": 8, \"duration\": 322, \"num_examples\": 16, \"num_bytes\": 3840}\u001b[0m\n",
      "\u001b[34m#metrics {\"StartTime\": 1701119459.7207685, \"EndTime\": 1701119459.7208812, \"Dimensions\": {\"Algorithm\": \"Linear Learner\", \"Host\": \"algo-1\", \"Operation\": \"training\", \"epoch\": 2, \"model\": 0}, \"Metrics\": {\"train_absolute_loss_objective\": {\"sum\": 0.6755828149616718, \"count\": 1, \"min\": 0.6755828149616718, \"max\": 0.6755828149616718}}}\u001b[0m\n",
      "\u001b[34m#metrics {\"StartTime\": 1701119459.7209988, \"EndTime\": 1701119459.7210224, \"Dimensions\": {\"Algorithm\": \"Linear Learner\", \"Host\": \"algo-1\", \"Operation\": \"training\", \"epoch\": 2, \"model\": 1}, \"Metrics\": {\"train_absolute_loss_objective\": {\"sum\": 0.6574626967310906, \"count\": 1, \"min\": 0.6574626967310906, \"max\": 0.6574626967310906}}}\u001b[0m\n",
      "\u001b[34m#metrics {\"StartTime\": 1701119459.721104, \"EndTime\": 1701119459.7211244, \"Dimensions\": {\"Algorithm\": \"Linear Learner\", \"Host\": \"algo-1\", \"Operation\": \"training\", \"epoch\": 2, \"model\": 2}, \"Metrics\": {\"train_absolute_loss_objective\": {\"sum\": 0.673521176725626, \"count\": 1, \"min\": 0.673521176725626, \"max\": 0.673521176725626}}}\u001b[0m\n",
      "\u001b[34m#metrics {\"StartTime\": 1701119459.721182, \"EndTime\": 1701119459.7212005, \"Dimensions\": {\"Algorithm\": \"Linear Learner\", \"Host\": \"algo-1\", \"Operation\": \"training\", \"epoch\": 2, \"model\": 3}, \"Metrics\": {\"train_absolute_loss_objective\": {\"sum\": 0.6572483368217945, \"count\": 1, \"min\": 0.6572483368217945, \"max\": 0.6572483368217945}}}\u001b[0m\n",
      "\u001b[34m#metrics {\"StartTime\": 1701119459.7212522, \"EndTime\": 1701119459.7212682, \"Dimensions\": {\"Algorithm\": \"Linear Learner\", \"Host\": \"algo-1\", \"Operation\": \"training\", \"epoch\": 2, \"model\": 4}, \"Metrics\": {\"train_absolute_loss_objective\": {\"sum\": 0.3875862419605255, \"count\": 1, \"min\": 0.3875862419605255, \"max\": 0.3875862419605255}}}\u001b[0m\n",
      "\u001b[34m#metrics {\"StartTime\": 1701119459.7213206, \"EndTime\": 1701119459.7213364, \"Dimensions\": {\"Algorithm\": \"Linear Learner\", \"Host\": \"algo-1\", \"Operation\": \"training\", \"epoch\": 2, \"model\": 5}, \"Metrics\": {\"train_absolute_loss_objective\": {\"sum\": 0.25337534919381144, \"count\": 1, \"min\": 0.25337534919381144, \"max\": 0.25337534919381144}}}\u001b[0m\n",
      "\u001b[34m#metrics {\"StartTime\": 1701119459.7214, \"EndTime\": 1701119459.721417, \"Dimensions\": {\"Algorithm\": \"Linear Learner\", \"Host\": \"algo-1\", \"Operation\": \"training\", \"epoch\": 2, \"model\": 6}, \"Metrics\": {\"train_absolute_loss_objective\": {\"sum\": 0.25892452001571653, \"count\": 1, \"min\": 0.25892452001571653, \"max\": 0.25892452001571653}}}\u001b[0m\n",
      "\u001b[34m#metrics {\"StartTime\": 1701119459.7214725, \"EndTime\": 1701119459.7214904, \"Dimensions\": {\"Algorithm\": \"Linear Learner\", \"Host\": \"algo-1\", \"Operation\": \"training\", \"epoch\": 2, \"model\": 7}, \"Metrics\": {\"train_absolute_loss_objective\": {\"sum\": 0.2817773222923279, \"count\": 1, \"min\": 0.2817773222923279, \"max\": 0.2817773222923279}}}\u001b[0m\n",
      "\u001b[34m#metrics {\"StartTime\": 1701119459.72155, \"EndTime\": 1701119459.7215662, \"Dimensions\": {\"Algorithm\": \"Linear Learner\", \"Host\": \"algo-1\", \"Operation\": \"training\", \"epoch\": 2, \"model\": 8}, \"Metrics\": {\"train_absolute_loss_objective\": {\"sum\": 0.6308149144053459, \"count\": 1, \"min\": 0.6308149144053459, \"max\": 0.6308149144053459}}}\u001b[0m\n",
      "\u001b[34m#metrics {\"StartTime\": 1701119459.7216156, \"EndTime\": 1701119459.7216318, \"Dimensions\": {\"Algorithm\": \"Linear Learner\", \"Host\": \"algo-1\", \"Operation\": \"training\", \"epoch\": 2, \"model\": 9}, \"Metrics\": {\"train_absolute_loss_objective\": {\"sum\": 0.683349932730198, \"count\": 1, \"min\": 0.683349932730198, \"max\": 0.683349932730198}}}\u001b[0m\n",
      "\u001b[34m#metrics {\"StartTime\": 1701119459.721695, \"EndTime\": 1701119459.721712, \"Dimensions\": {\"Algorithm\": \"Linear Learner\", \"Host\": \"algo-1\", \"Operation\": \"training\", \"epoch\": 2, \"model\": 10}, \"Metrics\": {\"train_absolute_loss_objective\": {\"sum\": 0.6794703580439091, \"count\": 1, \"min\": 0.6794703580439091, \"max\": 0.6794703580439091}}}\u001b[0m\n",
      "\u001b[34m#metrics {\"StartTime\": 1701119459.721775, \"EndTime\": 1701119459.721792, \"Dimensions\": {\"Algorithm\": \"Linear Learner\", \"Host\": \"algo-1\", \"Operation\": \"training\", \"epoch\": 2, \"model\": 11}, \"Metrics\": {\"train_absolute_loss_objective\": {\"sum\": 0.6901481106877327, \"count\": 1, \"min\": 0.6901481106877327, \"max\": 0.6901481106877327}}}\u001b[0m\n",
      "\u001b[34m#metrics {\"StartTime\": 1701119459.7218447, \"EndTime\": 1701119459.7218606, \"Dimensions\": {\"Algorithm\": \"Linear Learner\", \"Host\": \"algo-1\", \"Operation\": \"training\", \"epoch\": 2, \"model\": 12}, \"Metrics\": {\"train_absolute_loss_objective\": {\"sum\": 0.5009209111332893, \"count\": 1, \"min\": 0.5009209111332893, \"max\": 0.5009209111332893}}}\u001b[0m\n",
      "\u001b[34m#metrics {\"StartTime\": 1701119459.7219145, \"EndTime\": 1701119459.7219298, \"Dimensions\": {\"Algorithm\": \"Linear Learner\", \"Host\": \"algo-1\", \"Operation\": \"training\", \"epoch\": 2, \"model\": 13}, \"Metrics\": {\"train_absolute_loss_objective\": {\"sum\": 0.2536334365606308, \"count\": 1, \"min\": 0.2536334365606308, \"max\": 0.2536334365606308}}}\u001b[0m\n",
      "\u001b[34m#metrics {\"StartTime\": 1701119459.7220476, \"EndTime\": 1701119459.722067, \"Dimensions\": {\"Algorithm\": \"Linear Learner\", \"Host\": \"algo-1\", \"Operation\": \"training\", \"epoch\": 2, \"model\": 14}, \"Metrics\": {\"train_absolute_loss_objective\": {\"sum\": 0.5008428052067757, \"count\": 1, \"min\": 0.5008428052067757, \"max\": 0.5008428052067757}}}\u001b[0m\n",
      "\u001b[34m#metrics {\"StartTime\": 1701119459.7221274, \"EndTime\": 1701119459.7221444, \"Dimensions\": {\"Algorithm\": \"Linear Learner\", \"Host\": \"algo-1\", \"Operation\": \"training\", \"epoch\": 2, \"model\": 15}, \"Metrics\": {\"train_absolute_loss_objective\": {\"sum\": 0.2770687207579613, \"count\": 1, \"min\": 0.2770687207579613, \"max\": 0.2770687207579613}}}\u001b[0m\n",
      "\u001b[34m#metrics {\"StartTime\": 1701119459.7221978, \"EndTime\": 1701119459.7222152, \"Dimensions\": {\"Algorithm\": \"Linear Learner\", \"Host\": \"algo-1\", \"Operation\": \"training\", \"epoch\": 2, \"model\": 16}, \"Metrics\": {\"train_absolute_loss_objective\": {\"sum\": 0.7081736326217651, \"count\": 1, \"min\": 0.7081736326217651, \"max\": 0.7081736326217651}}}\u001b[0m\n",
      "\u001b[34m#metrics {\"StartTime\": 1701119459.722268, \"EndTime\": 1701119459.722286, \"Dimensions\": {\"Algorithm\": \"Linear Learner\", \"Host\": \"algo-1\", \"Operation\": \"training\", \"epoch\": 2, \"model\": 17}, \"Metrics\": {\"train_absolute_loss_objective\": {\"sum\": 0.666058249771595, \"count\": 1, \"min\": 0.666058249771595, \"max\": 0.666058249771595}}}\u001b[0m\n",
      "\u001b[34m#metrics {\"StartTime\": 1701119459.7223346, \"EndTime\": 1701119459.7223516, \"Dimensions\": {\"Algorithm\": \"Linear Learner\", \"Host\": \"algo-1\", \"Operation\": \"training\", \"epoch\": 2, \"model\": 18}, \"Metrics\": {\"train_absolute_loss_objective\": {\"sum\": 0.686844339966774, \"count\": 1, \"min\": 0.686844339966774, \"max\": 0.686844339966774}}}\u001b[0m\n",
      "\u001b[34m#metrics {\"StartTime\": 1701119459.722413, \"EndTime\": 1701119459.7224298, \"Dimensions\": {\"Algorithm\": \"Linear Learner\", \"Host\": \"algo-1\", \"Operation\": \"training\", \"epoch\": 2, \"model\": 19}, \"Metrics\": {\"train_absolute_loss_objective\": {\"sum\": 0.687430789321661, \"count\": 1, \"min\": 0.687430789321661, \"max\": 0.687430789321661}}}\u001b[0m\n",
      "\u001b[34m#metrics {\"StartTime\": 1701119459.7224839, \"EndTime\": 1701119459.7224998, \"Dimensions\": {\"Algorithm\": \"Linear Learner\", \"Host\": \"algo-1\", \"Operation\": \"training\", \"epoch\": 2, \"model\": 20}, \"Metrics\": {\"train_absolute_loss_objective\": {\"sum\": 0.3939851075410843, \"count\": 1, \"min\": 0.3939851075410843, \"max\": 0.3939851075410843}}}\u001b[0m\n",
      "\u001b[34m#metrics {\"StartTime\": 1701119459.722564, \"EndTime\": 1701119459.7225819, \"Dimensions\": {\"Algorithm\": \"Linear Learner\", \"Host\": \"algo-1\", \"Operation\": \"training\", \"epoch\": 2, \"model\": 21}, \"Metrics\": {\"train_absolute_loss_objective\": {\"sum\": 0.4089547961950302, \"count\": 1, \"min\": 0.4089547961950302, \"max\": 0.4089547961950302}}}\u001b[0m\n",
      "\u001b[34m#metrics {\"StartTime\": 1701119459.7226472, \"EndTime\": 1701119459.7226639, \"Dimensions\": {\"Algorithm\": \"Linear Learner\", \"Host\": \"algo-1\", \"Operation\": \"training\", \"epoch\": 2, \"model\": 22}, \"Metrics\": {\"train_absolute_loss_objective\": {\"sum\": 0.39521926268935204, \"count\": 1, \"min\": 0.39521926268935204, \"max\": 0.39521926268935204}}}\u001b[0m\n",
      "\u001b[34m#metrics {\"StartTime\": 1701119459.7227201, \"EndTime\": 1701119459.7227335, \"Dimensions\": {\"Algorithm\": \"Linear Learner\", \"Host\": \"algo-1\", \"Operation\": \"training\", \"epoch\": 2, \"model\": 23}, \"Metrics\": {\"train_absolute_loss_objective\": {\"sum\": 0.4073410749435425, \"count\": 1, \"min\": 0.4073410749435425, \"max\": 0.4073410749435425}}}\u001b[0m\n",
      "\u001b[34m#metrics {\"StartTime\": 1701119459.7228055, \"EndTime\": 1701119459.7228203, \"Dimensions\": {\"Algorithm\": \"Linear Learner\", \"Host\": \"algo-1\", \"Operation\": \"training\", \"epoch\": 2, \"model\": 24}, \"Metrics\": {\"train_absolute_loss_objective\": {\"sum\": 0.7928586281836033, \"count\": 1, \"min\": 0.7928586281836033, \"max\": 0.7928586281836033}}}\u001b[0m\n",
      "\u001b[34m#metrics {\"StartTime\": 1701119459.7228763, \"EndTime\": 1701119459.72289, \"Dimensions\": {\"Algorithm\": \"Linear Learner\", \"Host\": \"algo-1\", \"Operation\": \"training\", \"epoch\": 2, \"model\": 25}, \"Metrics\": {\"train_absolute_loss_objective\": {\"sum\": 0.7968981556594372, \"count\": 1, \"min\": 0.7968981556594372, \"max\": 0.7968981556594372}}}\u001b[0m\n",
      "\u001b[34m#metrics {\"StartTime\": 1701119459.72294, \"EndTime\": 1701119459.722956, \"Dimensions\": {\"Algorithm\": \"Linear Learner\", \"Host\": \"algo-1\", \"Operation\": \"training\", \"epoch\": 2, \"model\": 26}, \"Metrics\": {\"train_absolute_loss_objective\": {\"sum\": 0.7960930533707142, \"count\": 1, \"min\": 0.7960930533707142, \"max\": 0.7960930533707142}}}\u001b[0m\n",
      "\u001b[34m#metrics {\"StartTime\": 1701119459.7230473, \"EndTime\": 1701119459.723066, \"Dimensions\": {\"Algorithm\": \"Linear Learner\", \"Host\": \"algo-1\", \"Operation\": \"training\", \"epoch\": 2, \"model\": 27}, \"Metrics\": {\"train_absolute_loss_objective\": {\"sum\": 0.7961093194782733, \"count\": 1, \"min\": 0.7961093194782733, \"max\": 0.7961093194782733}}}\u001b[0m\n",
      "\u001b[34m#metrics {\"StartTime\": 1701119459.7231193, \"EndTime\": 1701119459.7231352, \"Dimensions\": {\"Algorithm\": \"Linear Learner\", \"Host\": \"algo-1\", \"Operation\": \"training\", \"epoch\": 2, \"model\": 28}, \"Metrics\": {\"train_absolute_loss_objective\": {\"sum\": 0.8365394055843354, \"count\": 1, \"min\": 0.8365394055843354, \"max\": 0.8365394055843354}}}\u001b[0m\n",
      "\u001b[34m#metrics {\"StartTime\": 1701119459.723186, \"EndTime\": 1701119459.7232025, \"Dimensions\": {\"Algorithm\": \"Linear Learner\", \"Host\": \"algo-1\", \"Operation\": \"training\", \"epoch\": 2, \"model\": 29}, \"Metrics\": {\"train_absolute_loss_objective\": {\"sum\": 0.8336828619241714, \"count\": 1, \"min\": 0.8336828619241714, \"max\": 0.8336828619241714}}}\u001b[0m\n",
      "\u001b[34m#metrics {\"StartTime\": 1701119459.723256, \"EndTime\": 1701119459.723273, \"Dimensions\": {\"Algorithm\": \"Linear Learner\", \"Host\": \"algo-1\", \"Operation\": \"training\", \"epoch\": 2, \"model\": 30}, \"Metrics\": {\"train_absolute_loss_objective\": {\"sum\": 0.8327431619167328, \"count\": 1, \"min\": 0.8327431619167328, \"max\": 0.8327431619167328}}}\u001b[0m\n",
      "\u001b[34m#metrics {\"StartTime\": 1701119459.723323, \"EndTime\": 1701119459.7233398, \"Dimensions\": {\"Algorithm\": \"Linear Learner\", \"Host\": \"algo-1\", \"Operation\": \"training\", \"epoch\": 2, \"model\": 31}, \"Metrics\": {\"train_absolute_loss_objective\": {\"sum\": 0.8323994517326355, \"count\": 1, \"min\": 0.8323994517326355, \"max\": 0.8323994517326355}}}\u001b[0m\n",
      "\u001b[34m[11/27/2023 21:10:59 INFO 140008149247808] #quality_metric: host=algo-1, epoch=2, train absolute_loss_objective <loss>=0.6755828149616718\u001b[0m\n",
      "\u001b[34m[11/27/2023 21:10:59 INFO 140008149247808] #early_stopping_criteria_metric: host=algo-1, epoch=2, criteria=absolute_loss_objective, value=0.25337534919381144\u001b[0m\n",
      "\u001b[34m[11/27/2023 21:10:59 INFO 140008149247808] Epoch 2: Loss improved. Updating best model\u001b[0m\n",
      "\u001b[34m[11/27/2023 21:10:59 INFO 140008149247808] Saving model for epoch: 2\u001b[0m\n",
      "\u001b[34m[11/27/2023 21:10:59 INFO 140008149247808] Saved checkpoint to \"/tmp/tmpifev_dcf/mx-mod-0000.params\"\u001b[0m\n",
      "\u001b[34m[11/27/2023 21:10:59 INFO 140008149247808] #progress_metric: host=algo-1, completed 60.0 % of epochs\u001b[0m\n",
      "\u001b[34m#metrics {\"StartTime\": 1701119459.3976774, \"EndTime\": 1701119459.7339807, \"Dimensions\": {\"Algorithm\": \"Linear Learner\", \"Host\": \"algo-1\", \"Operation\": \"training\", \"epoch\": 2, \"Meta\": \"training_data_iter\"}, \"Metrics\": {\"Total Records Seen\": {\"sum\": 325.0, \"count\": 1, \"min\": 325, \"max\": 325}, \"Total Batches Seen\": {\"sum\": 65.0, \"count\": 1, \"min\": 65, \"max\": 65}, \"Max Records Seen Between Resets\": {\"sum\": 80.0, \"count\": 1, \"min\": 80, \"max\": 80}, \"Max Batches Seen Between Resets\": {\"sum\": 16.0, \"count\": 1, \"min\": 16, \"max\": 16}, \"Reset Count\": {\"sum\": 5.0, \"count\": 1, \"min\": 5, \"max\": 5}, \"Number of Records Since Last Reset\": {\"sum\": 80.0, \"count\": 1, \"min\": 80, \"max\": 80}, \"Number of Batches Since Last Reset\": {\"sum\": 16.0, \"count\": 1, \"min\": 16, \"max\": 16}}}\u001b[0m\n",
      "\u001b[34m[11/27/2023 21:10:59 INFO 140008149247808] #throughput_metric: host=algo-1, train throughput=237.7652592539054 records/second\u001b[0m\n",
      "\u001b[34m[2023-11-27 21:11:00.087] [tensorio] [info] epoch_stats={\"data_pipeline\": \"/opt/ml/input/data/train\", \"epoch\": 10, \"duration\": 353, \"num_examples\": 16, \"num_bytes\": 3840}\u001b[0m\n",
      "\u001b[34m#metrics {\"StartTime\": 1701119460.0880394, \"EndTime\": 1701119460.088122, \"Dimensions\": {\"Algorithm\": \"Linear Learner\", \"Host\": \"algo-1\", \"Operation\": \"training\", \"epoch\": 3, \"model\": 0}, \"Metrics\": {\"train_absolute_loss_objective\": {\"sum\": 0.6249611645936965, \"count\": 1, \"min\": 0.6249611645936965, \"max\": 0.6249611645936965}}}\u001b[0m\n",
      "\u001b[34m#metrics {\"StartTime\": 1701119460.0882132, \"EndTime\": 1701119460.088237, \"Dimensions\": {\"Algorithm\": \"Linear Learner\", \"Host\": \"algo-1\", \"Operation\": \"training\", \"epoch\": 3, \"model\": 1}, \"Metrics\": {\"train_absolute_loss_objective\": {\"sum\": 0.6049734830856324, \"count\": 1, \"min\": 0.6049734830856324, \"max\": 0.6049734830856324}}}\u001b[0m\n",
      "\u001b[34m#metrics {\"StartTime\": 1701119460.088291, \"EndTime\": 1701119460.08831, \"Dimensions\": {\"Algorithm\": \"Linear Learner\", \"Host\": \"algo-1\", \"Operation\": \"training\", \"epoch\": 3, \"model\": 2}, \"Metrics\": {\"train_absolute_loss_objective\": {\"sum\": 0.6229398444294929, \"count\": 1, \"min\": 0.6229398444294929, \"max\": 0.6229398444294929}}}\u001b[0m\n",
      "\u001b[34m#metrics {\"StartTime\": 1701119460.0883594, \"EndTime\": 1701119460.088376, \"Dimensions\": {\"Algorithm\": \"Linear Learner\", \"Host\": \"algo-1\", \"Operation\": \"training\", \"epoch\": 3, \"model\": 3}, \"Metrics\": {\"train_absolute_loss_objective\": {\"sum\": 0.6054382264614105, \"count\": 1, \"min\": 0.6054382264614105, \"max\": 0.6054382264614105}}}\u001b[0m\n",
      "\u001b[34m#metrics {\"StartTime\": 1701119460.0884247, \"EndTime\": 1701119460.0884418, \"Dimensions\": {\"Algorithm\": \"Linear Learner\", \"Host\": \"algo-1\", \"Operation\": \"training\", \"epoch\": 3, \"model\": 4}, \"Metrics\": {\"train_absolute_loss_objective\": {\"sum\": 0.26448799967765807, \"count\": 1, \"min\": 0.26448799967765807, \"max\": 0.26448799967765807}}}\u001b[0m\n",
      "\u001b[34m#metrics {\"StartTime\": 1701119460.088497, \"EndTime\": 1701119460.0885158, \"Dimensions\": {\"Algorithm\": \"Linear Learner\", \"Host\": \"algo-1\", \"Operation\": \"training\", \"epoch\": 3, \"model\": 5}, \"Metrics\": {\"train_absolute_loss_objective\": {\"sum\": 0.29079855009913447, \"count\": 1, \"min\": 0.29079855009913447, \"max\": 0.29079855009913447}}}\u001b[0m\n",
      "\u001b[34m#metrics {\"StartTime\": 1701119460.0885706, \"EndTime\": 1701119460.0885887, \"Dimensions\": {\"Algorithm\": \"Linear Learner\", \"Host\": \"algo-1\", \"Operation\": \"training\", \"epoch\": 3, \"model\": 6}, \"Metrics\": {\"train_absolute_loss_objective\": {\"sum\": 0.24939279407262802, \"count\": 1, \"min\": 0.24939279407262802, \"max\": 0.24939279407262802}}}\u001b[0m\n",
      "\u001b[34m#metrics {\"StartTime\": 1701119460.088639, \"EndTime\": 1701119460.088654, \"Dimensions\": {\"Algorithm\": \"Linear Learner\", \"Host\": \"algo-1\", \"Operation\": \"training\", \"epoch\": 3, \"model\": 7}, \"Metrics\": {\"train_absolute_loss_objective\": {\"sum\": 0.2691863410174847, \"count\": 1, \"min\": 0.2691863410174847, \"max\": 0.2691863410174847}}}\u001b[0m\n",
      "\u001b[34m#metrics {\"StartTime\": 1701119460.0887012, \"EndTime\": 1701119460.0887182, \"Dimensions\": {\"Algorithm\": \"Linear Learner\", \"Host\": \"algo-1\", \"Operation\": \"training\", \"epoch\": 3, \"model\": 8}, \"Metrics\": {\"train_absolute_loss_objective\": {\"sum\": 0.5749854043126106, \"count\": 1, \"min\": 0.5749854043126106, \"max\": 0.5749854043126106}}}\u001b[0m\n",
      "\u001b[34m#metrics {\"StartTime\": 1701119460.0887673, \"EndTime\": 1701119460.0887845, \"Dimensions\": {\"Algorithm\": \"Linear Learner\", \"Host\": \"algo-1\", \"Operation\": \"training\", \"epoch\": 3, \"model\": 9}, \"Metrics\": {\"train_absolute_loss_objective\": {\"sum\": 0.6307167179882527, \"count\": 1, \"min\": 0.6307167179882527, \"max\": 0.6307167179882527}}}\u001b[0m\n",
      "\u001b[34m#metrics {\"StartTime\": 1701119460.0888371, \"EndTime\": 1701119460.0888526, \"Dimensions\": {\"Algorithm\": \"Linear Learner\", \"Host\": \"algo-1\", \"Operation\": \"training\", \"epoch\": 3, \"model\": 10}, \"Metrics\": {\"train_absolute_loss_objective\": {\"sum\": 0.6289513073861599, \"count\": 1, \"min\": 0.6289513073861599, \"max\": 0.6289513073861599}}}\u001b[0m\n",
      "\u001b[34m#metrics {\"StartTime\": 1701119460.088911, \"EndTime\": 1701119460.0889275, \"Dimensions\": {\"Algorithm\": \"Linear Learner\", \"Host\": \"algo-1\", \"Operation\": \"training\", \"epoch\": 3, \"model\": 11}, \"Metrics\": {\"train_absolute_loss_objective\": {\"sum\": 0.6375136159360408, \"count\": 1, \"min\": 0.6375136159360408, \"max\": 0.6375136159360408}}}\u001b[0m\n",
      "\u001b[34m#metrics {\"StartTime\": 1701119460.0889897, \"EndTime\": 1701119460.0890079, \"Dimensions\": {\"Algorithm\": \"Linear Learner\", \"Host\": \"algo-1\", \"Operation\": \"training\", \"epoch\": 3, \"model\": 12}, \"Metrics\": {\"train_absolute_loss_objective\": {\"sum\": 0.38549061864614487, \"count\": 1, \"min\": 0.38549061864614487, \"max\": 0.38549061864614487}}}\u001b[0m\n",
      "\u001b[34m#metrics {\"StartTime\": 1701119460.0890574, \"EndTime\": 1701119460.089073, \"Dimensions\": {\"Algorithm\": \"Linear Learner\", \"Host\": \"algo-1\", \"Operation\": \"training\", \"epoch\": 3, \"model\": 13}, \"Metrics\": {\"train_absolute_loss_objective\": {\"sum\": 0.282944805175066, \"count\": 1, \"min\": 0.282944805175066, \"max\": 0.282944805175066}}}\u001b[0m\n",
      "\u001b[34m#metrics {\"StartTime\": 1701119460.089132, \"EndTime\": 1701119460.0891488, \"Dimensions\": {\"Algorithm\": \"Linear Learner\", \"Host\": \"algo-1\", \"Operation\": \"training\", \"epoch\": 3, \"model\": 14}, \"Metrics\": {\"train_absolute_loss_objective\": {\"sum\": 0.38607740849256517, \"count\": 1, \"min\": 0.38607740849256517, \"max\": 0.38607740849256517}}}\u001b[0m\n",
      "\u001b[34m#metrics {\"StartTime\": 1701119460.0892048, \"EndTime\": 1701119460.0892217, \"Dimensions\": {\"Algorithm\": \"Linear Learner\", \"Host\": \"algo-1\", \"Operation\": \"training\", \"epoch\": 3, \"model\": 15}, \"Metrics\": {\"train_absolute_loss_objective\": {\"sum\": 0.2683978885412216, \"count\": 1, \"min\": 0.2683978885412216, \"max\": 0.2683978885412216}}}\u001b[0m\n",
      "\u001b[34m#metrics {\"StartTime\": 1701119460.0892813, \"EndTime\": 1701119460.0892982, \"Dimensions\": {\"Algorithm\": \"Linear Learner\", \"Host\": \"algo-1\", \"Operation\": \"training\", \"epoch\": 3, \"model\": 16}, \"Metrics\": {\"train_absolute_loss_objective\": {\"sum\": 0.6598505698144436, \"count\": 1, \"min\": 0.6598505698144436, \"max\": 0.6598505698144436}}}\u001b[0m\n",
      "\u001b[34m#metrics {\"StartTime\": 1701119460.0893571, \"EndTime\": 1701119460.0893734, \"Dimensions\": {\"Algorithm\": \"Linear Learner\", \"Host\": \"algo-1\", \"Operation\": \"training\", \"epoch\": 3, \"model\": 17}, \"Metrics\": {\"train_absolute_loss_objective\": {\"sum\": 0.6210917301476002, \"count\": 1, \"min\": 0.6210917301476002, \"max\": 0.6210917301476002}}}\u001b[0m\n",
      "\u001b[34m#metrics {\"StartTime\": 1701119460.089435, \"EndTime\": 1701119460.0894535, \"Dimensions\": {\"Algorithm\": \"Linear Learner\", \"Host\": \"algo-1\", \"Operation\": \"training\", \"epoch\": 3, \"model\": 18}, \"Metrics\": {\"train_absolute_loss_objective\": {\"sum\": 0.6423323355615139, \"count\": 1, \"min\": 0.6423323355615139, \"max\": 0.6423323355615139}}}\u001b[0m\n",
      "\u001b[34m#metrics {\"StartTime\": 1701119460.0894995, \"EndTime\": 1701119460.089515, \"Dimensions\": {\"Algorithm\": \"Linear Learner\", \"Host\": \"algo-1\", \"Operation\": \"training\", \"epoch\": 3, \"model\": 19}, \"Metrics\": {\"train_absolute_loss_objective\": {\"sum\": 0.6411430761218071, \"count\": 1, \"min\": 0.6411430761218071, \"max\": 0.6411430761218071}}}\u001b[0m\n",
      "\u001b[34m#metrics {\"StartTime\": 1701119460.0895634, \"EndTime\": 1701119460.089581, \"Dimensions\": {\"Algorithm\": \"Linear Learner\", \"Host\": \"algo-1\", \"Operation\": \"training\", \"epoch\": 3, \"model\": 20}, \"Metrics\": {\"train_absolute_loss_objective\": {\"sum\": 0.38759061843156817, \"count\": 1, \"min\": 0.38759061843156817, \"max\": 0.38759061843156817}}}\u001b[0m\n",
      "\u001b[34m#metrics {\"StartTime\": 1701119460.0896256, \"EndTime\": 1701119460.0896416, \"Dimensions\": {\"Algorithm\": \"Linear Learner\", \"Host\": \"algo-1\", \"Operation\": \"training\", \"epoch\": 3, \"model\": 21}, \"Metrics\": {\"train_absolute_loss_objective\": {\"sum\": 0.3871527165174484, \"count\": 1, \"min\": 0.3871527165174484, \"max\": 0.3871527165174484}}}\u001b[0m\n",
      "\u001b[34m#metrics {\"StartTime\": 1701119460.0896997, \"EndTime\": 1701119460.089716, \"Dimensions\": {\"Algorithm\": \"Linear Learner\", \"Host\": \"algo-1\", \"Operation\": \"training\", \"epoch\": 3, \"model\": 22}, \"Metrics\": {\"train_absolute_loss_objective\": {\"sum\": 0.3765374720096588, \"count\": 1, \"min\": 0.3765374720096588, \"max\": 0.3765374720096588}}}\u001b[0m\n",
      "\u001b[34m#metrics {\"StartTime\": 1701119460.0897777, \"EndTime\": 1701119460.0897949, \"Dimensions\": {\"Algorithm\": \"Linear Learner\", \"Host\": \"algo-1\", \"Operation\": \"training\", \"epoch\": 3, \"model\": 23}, \"Metrics\": {\"train_absolute_loss_objective\": {\"sum\": 0.38657841384410857, \"count\": 1, \"min\": 0.38657841384410857, \"max\": 0.38657841384410857}}}\u001b[0m\n",
      "\u001b[34m#metrics {\"StartTime\": 1701119460.089854, \"EndTime\": 1701119460.0898712, \"Dimensions\": {\"Algorithm\": \"Linear Learner\", \"Host\": \"algo-1\", \"Operation\": \"training\", \"epoch\": 3, \"model\": 24}, \"Metrics\": {\"train_absolute_loss_objective\": {\"sum\": 0.7935209169983863, \"count\": 1, \"min\": 0.7935209169983863, \"max\": 0.7935209169983863}}}\u001b[0m\n",
      "\u001b[34m#metrics {\"StartTime\": 1701119460.0899255, \"EndTime\": 1701119460.0899422, \"Dimensions\": {\"Algorithm\": \"Linear Learner\", \"Host\": \"algo-1\", \"Operation\": \"training\", \"epoch\": 3, \"model\": 25}, \"Metrics\": {\"train_absolute_loss_objective\": {\"sum\": 0.791369304060936, \"count\": 1, \"min\": 0.791369304060936, \"max\": 0.791369304060936}}}\u001b[0m\n",
      "\u001b[34m#metrics {\"StartTime\": 1701119460.090003, \"EndTime\": 1701119460.0900202, \"Dimensions\": {\"Algorithm\": \"Linear Learner\", \"Host\": \"algo-1\", \"Operation\": \"training\", \"epoch\": 3, \"model\": 26}, \"Metrics\": {\"train_absolute_loss_objective\": {\"sum\": 0.7914066165685654, \"count\": 1, \"min\": 0.7914066165685654, \"max\": 0.7914066165685654}}}\u001b[0m\n",
      "\u001b[34m#metrics {\"StartTime\": 1701119460.090064, \"EndTime\": 1701119460.090079, \"Dimensions\": {\"Algorithm\": \"Linear Learner\", \"Host\": \"algo-1\", \"Operation\": \"training\", \"epoch\": 3, \"model\": 27}, \"Metrics\": {\"train_absolute_loss_objective\": {\"sum\": 0.7915320582687855, \"count\": 1, \"min\": 0.7915320582687855, \"max\": 0.7915320582687855}}}\u001b[0m\n",
      "\u001b[34m#metrics {\"StartTime\": 1701119460.090132, \"EndTime\": 1701119460.0901484, \"Dimensions\": {\"Algorithm\": \"Linear Learner\", \"Host\": \"algo-1\", \"Operation\": \"training\", \"epoch\": 3, \"model\": 28}, \"Metrics\": {\"train_absolute_loss_objective\": {\"sum\": 0.8267083287239074, \"count\": 1, \"min\": 0.8267083287239074, \"max\": 0.8267083287239074}}}\u001b[0m\n",
      "\u001b[34m#metrics {\"StartTime\": 1701119460.0901976, \"EndTime\": 1701119460.0902128, \"Dimensions\": {\"Algorithm\": \"Linear Learner\", \"Host\": \"algo-1\", \"Operation\": \"training\", \"epoch\": 3, \"model\": 29}, \"Metrics\": {\"train_absolute_loss_objective\": {\"sum\": 0.8296881794929505, \"count\": 1, \"min\": 0.8296881794929505, \"max\": 0.8296881794929505}}}\u001b[0m\n",
      "\u001b[34m#metrics {\"StartTime\": 1701119460.090271, \"EndTime\": 1701119460.0902877, \"Dimensions\": {\"Algorithm\": \"Linear Learner\", \"Host\": \"algo-1\", \"Operation\": \"training\", \"epoch\": 3, \"model\": 30}, \"Metrics\": {\"train_absolute_loss_objective\": {\"sum\": 0.8273439541459083, \"count\": 1, \"min\": 0.8273439541459083, \"max\": 0.8273439541459083}}}\u001b[0m\n",
      "\u001b[34m#metrics {\"StartTime\": 1701119460.0903375, \"EndTime\": 1701119460.090353, \"Dimensions\": {\"Algorithm\": \"Linear Learner\", \"Host\": \"algo-1\", \"Operation\": \"training\", \"epoch\": 3, \"model\": 31}, \"Metrics\": {\"train_absolute_loss_objective\": {\"sum\": 0.8292372286319732, \"count\": 1, \"min\": 0.8292372286319732, \"max\": 0.8292372286319732}}}\u001b[0m\n",
      "\u001b[34m[11/27/2023 21:11:00 INFO 140008149247808] #quality_metric: host=algo-1, epoch=3, train absolute_loss_objective <loss>=0.6249611645936965\u001b[0m\n",
      "\u001b[34m[11/27/2023 21:11:00 INFO 140008149247808] #early_stopping_criteria_metric: host=algo-1, epoch=3, criteria=absolute_loss_objective, value=0.24939279407262802\u001b[0m\n",
      "\u001b[34m[11/27/2023 21:11:00 INFO 140008149247808] Epoch 3: Loss improved. Updating best model\u001b[0m\n",
      "\u001b[34m[11/27/2023 21:11:00 INFO 140008149247808] Saving model for epoch: 3\u001b[0m\n",
      "\u001b[34m[11/27/2023 21:11:00 INFO 140008149247808] Saved checkpoint to \"/tmp/tmpbl8rmjc9/mx-mod-0000.params\"\u001b[0m\n",
      "\u001b[34m[11/27/2023 21:11:00 INFO 140008149247808] #progress_metric: host=algo-1, completed 80.0 % of epochs\u001b[0m\n",
      "\u001b[34m#metrics {\"StartTime\": 1701119459.7343252, \"EndTime\": 1701119460.100772, \"Dimensions\": {\"Algorithm\": \"Linear Learner\", \"Host\": \"algo-1\", \"Operation\": \"training\", \"epoch\": 3, \"Meta\": \"training_data_iter\"}, \"Metrics\": {\"Total Records Seen\": {\"sum\": 405.0, \"count\": 1, \"min\": 405, \"max\": 405}, \"Total Batches Seen\": {\"sum\": 81.0, \"count\": 1, \"min\": 81, \"max\": 81}, \"Max Records Seen Between Resets\": {\"sum\": 80.0, \"count\": 1, \"min\": 80, \"max\": 80}, \"Max Batches Seen Between Resets\": {\"sum\": 16.0, \"count\": 1, \"min\": 16, \"max\": 16}, \"Reset Count\": {\"sum\": 6.0, \"count\": 1, \"min\": 6, \"max\": 6}, \"Number of Records Since Last Reset\": {\"sum\": 80.0, \"count\": 1, \"min\": 80, \"max\": 80}, \"Number of Batches Since Last Reset\": {\"sum\": 16.0, \"count\": 1, \"min\": 16, \"max\": 16}}}\u001b[0m\n",
      "\u001b[34m[11/27/2023 21:11:00 INFO 140008149247808] #throughput_metric: host=algo-1, train throughput=218.20827521175764 records/second\u001b[0m\n",
      "\u001b[34m[2023-11-27 21:11:00.476] [tensorio] [info] epoch_stats={\"data_pipeline\": \"/opt/ml/input/data/train\", \"epoch\": 12, \"duration\": 375, \"num_examples\": 16, \"num_bytes\": 3840}\u001b[0m\n",
      "\u001b[34m#metrics {\"StartTime\": 1701119460.4766643, \"EndTime\": 1701119460.4767644, \"Dimensions\": {\"Algorithm\": \"Linear Learner\", \"Host\": \"algo-1\", \"Operation\": \"training\", \"epoch\": 4, \"model\": 0}, \"Metrics\": {\"train_absolute_loss_objective\": {\"sum\": 0.5764835506677628, \"count\": 1, \"min\": 0.5764835506677628, \"max\": 0.5764835506677628}}}\u001b[0m\n",
      "\u001b[34m#metrics {\"StartTime\": 1701119460.4768841, \"EndTime\": 1701119460.4769022, \"Dimensions\": {\"Algorithm\": \"Linear Learner\", \"Host\": \"algo-1\", \"Operation\": \"training\", \"epoch\": 4, \"model\": 1}, \"Metrics\": {\"train_absolute_loss_objective\": {\"sum\": 0.5542076230049133, \"count\": 1, \"min\": 0.5542076230049133, \"max\": 0.5542076230049133}}}\u001b[0m\n",
      "\u001b[34m#metrics {\"StartTime\": 1701119460.4769514, \"EndTime\": 1701119460.4769633, \"Dimensions\": {\"Algorithm\": \"Linear Learner\", \"Host\": \"algo-1\", \"Operation\": \"training\", \"epoch\": 4, \"model\": 2}, \"Metrics\": {\"train_absolute_loss_objective\": {\"sum\": 0.5744622260332107, \"count\": 1, \"min\": 0.5744622260332107, \"max\": 0.5744622260332107}}}\u001b[0m\n",
      "\u001b[34m#metrics {\"StartTime\": 1701119460.4770103, \"EndTime\": 1701119460.4770217, \"Dimensions\": {\"Algorithm\": \"Linear Learner\", \"Host\": \"algo-1\", \"Operation\": \"training\", \"epoch\": 4, \"model\": 3}, \"Metrics\": {\"train_absolute_loss_objective\": {\"sum\": 0.5542922407388687, \"count\": 1, \"min\": 0.5542922407388687, \"max\": 0.5542922407388687}}}\u001b[0m\n",
      "\u001b[34m#metrics {\"StartTime\": 1701119460.4770727, \"EndTime\": 1701119460.477085, \"Dimensions\": {\"Algorithm\": \"Linear Learner\", \"Host\": \"algo-1\", \"Operation\": \"training\", \"epoch\": 4, \"model\": 4}, \"Metrics\": {\"train_absolute_loss_objective\": {\"sum\": 0.3237533211708069, \"count\": 1, \"min\": 0.3237533211708069, \"max\": 0.3237533211708069}}}\u001b[0m\n",
      "\u001b[34m#metrics {\"StartTime\": 1701119460.4771252, \"EndTime\": 1701119460.477136, \"Dimensions\": {\"Algorithm\": \"Linear Learner\", \"Host\": \"algo-1\", \"Operation\": \"training\", \"epoch\": 4, \"model\": 5}, \"Metrics\": {\"train_absolute_loss_objective\": {\"sum\": 0.32570654302835467, \"count\": 1, \"min\": 0.32570654302835467, \"max\": 0.32570654302835467}}}\u001b[0m\n",
      "\u001b[34m#metrics {\"StartTime\": 1701119460.477179, \"EndTime\": 1701119460.4771905, \"Dimensions\": {\"Algorithm\": \"Linear Learner\", \"Host\": \"algo-1\", \"Operation\": \"training\", \"epoch\": 4, \"model\": 6}, \"Metrics\": {\"train_absolute_loss_objective\": {\"sum\": 0.3271085262298584, \"count\": 1, \"min\": 0.3271085262298584, \"max\": 0.3271085262298584}}}\u001b[0m\n",
      "\u001b[34m#metrics {\"StartTime\": 1701119460.477239, \"EndTime\": 1701119460.4772506, \"Dimensions\": {\"Algorithm\": \"Linear Learner\", \"Host\": \"algo-1\", \"Operation\": \"training\", \"epoch\": 4, \"model\": 7}, \"Metrics\": {\"train_absolute_loss_objective\": {\"sum\": 0.2832276701927185, \"count\": 1, \"min\": 0.2832276701927185, \"max\": 0.2832276701927185}}}\u001b[0m\n",
      "\u001b[34m#metrics {\"StartTime\": 1701119460.477293, \"EndTime\": 1701119460.4773037, \"Dimensions\": {\"Algorithm\": \"Linear Learner\", \"Host\": \"algo-1\", \"Operation\": \"training\", \"epoch\": 4, \"model\": 8}, \"Metrics\": {\"train_absolute_loss_objective\": {\"sum\": 0.5324825391173362, \"count\": 1, \"min\": 0.5324825391173362, \"max\": 0.5324825391173362}}}\u001b[0m\n",
      "\u001b[34m#metrics {\"StartTime\": 1701119460.4773407, \"EndTime\": 1701119460.4773512, \"Dimensions\": {\"Algorithm\": \"Linear Learner\", \"Host\": \"algo-1\", \"Operation\": \"training\", \"epoch\": 4, \"model\": 9}, \"Metrics\": {\"train_absolute_loss_objective\": {\"sum\": 0.5795194655656815, \"count\": 1, \"min\": 0.5795194655656815, \"max\": 0.5795194655656815}}}\u001b[0m\n",
      "\u001b[34m#metrics {\"StartTime\": 1701119460.4773889, \"EndTime\": 1701119460.4773986, \"Dimensions\": {\"Algorithm\": \"Linear Learner\", \"Host\": \"algo-1\", \"Operation\": \"training\", \"epoch\": 4, \"model\": 10}, \"Metrics\": {\"train_absolute_loss_objective\": {\"sum\": 0.5805960208177566, \"count\": 1, \"min\": 0.5805960208177566, \"max\": 0.5805960208177566}}}\u001b[0m\n",
      "\u001b[34m#metrics {\"StartTime\": 1701119460.4774394, \"EndTime\": 1701119460.4774508, \"Dimensions\": {\"Algorithm\": \"Linear Learner\", \"Host\": \"algo-1\", \"Operation\": \"training\", \"epoch\": 4, \"model\": 11}, \"Metrics\": {\"train_absolute_loss_objective\": {\"sum\": 0.5863150142133235, \"count\": 1, \"min\": 0.5863150142133235, \"max\": 0.5863150142133235}}}\u001b[0m\n",
      "\u001b[34m#metrics {\"StartTime\": 1701119460.4774904, \"EndTime\": 1701119460.477501, \"Dimensions\": {\"Algorithm\": \"Linear Learner\", \"Host\": \"algo-1\", \"Operation\": \"training\", \"epoch\": 4, \"model\": 12}, \"Metrics\": {\"train_absolute_loss_objective\": {\"sum\": 0.3105168789625168, \"count\": 1, \"min\": 0.3105168789625168, \"max\": 0.3105168789625168}}}\u001b[0m\n",
      "\u001b[34m#metrics {\"StartTime\": 1701119460.477538, \"EndTime\": 1701119460.4775484, \"Dimensions\": {\"Algorithm\": \"Linear Learner\", \"Host\": \"algo-1\", \"Operation\": \"training\", \"epoch\": 4, \"model\": 13}, \"Metrics\": {\"train_absolute_loss_objective\": {\"sum\": 0.34416406527161597, \"count\": 1, \"min\": 0.34416406527161597, \"max\": 0.34416406527161597}}}\u001b[0m\n",
      "\u001b[34m#metrics {\"StartTime\": 1701119460.477586, \"EndTime\": 1701119460.4775953, \"Dimensions\": {\"Algorithm\": \"Linear Learner\", \"Host\": \"algo-1\", \"Operation\": \"training\", \"epoch\": 4, \"model\": 14}, \"Metrics\": {\"train_absolute_loss_objective\": {\"sum\": 0.3099926695227623, \"count\": 1, \"min\": 0.3099926695227623, \"max\": 0.3099926695227623}}}\u001b[0m\n",
      "\u001b[34m#metrics {\"StartTime\": 1701119460.477632, \"EndTime\": 1701119460.4776425, \"Dimensions\": {\"Algorithm\": \"Linear Learner\", \"Host\": \"algo-1\", \"Operation\": \"training\", \"epoch\": 4, \"model\": 15}, \"Metrics\": {\"train_absolute_loss_objective\": {\"sum\": 0.3850403465330601, \"count\": 1, \"min\": 0.3850403465330601, \"max\": 0.3850403465330601}}}\u001b[0m\n",
      "\u001b[34m#metrics {\"StartTime\": 1701119460.4776824, \"EndTime\": 1701119460.477693, \"Dimensions\": {\"Algorithm\": \"Linear Learner\", \"Host\": \"algo-1\", \"Operation\": \"training\", \"epoch\": 4, \"model\": 16}, \"Metrics\": {\"train_absolute_loss_objective\": {\"sum\": 0.6204641781747341, \"count\": 1, \"min\": 0.6204641781747341, \"max\": 0.6204641781747341}}}\u001b[0m\n",
      "\u001b[34m#metrics {\"StartTime\": 1701119460.4777334, \"EndTime\": 1701119460.4777439, \"Dimensions\": {\"Algorithm\": \"Linear Learner\", \"Host\": \"algo-1\", \"Operation\": \"training\", \"epoch\": 4, \"model\": 17}, \"Metrics\": {\"train_absolute_loss_objective\": {\"sum\": 0.5804245546460152, \"count\": 1, \"min\": 0.5804245546460152, \"max\": 0.5804245546460152}}}\u001b[0m\n",
      "\u001b[34m#metrics {\"StartTime\": 1701119460.477781, \"EndTime\": 1701119460.4777915, \"Dimensions\": {\"Algorithm\": \"Linear Learner\", \"Host\": \"algo-1\", \"Operation\": \"training\", \"epoch\": 4, \"model\": 18}, \"Metrics\": {\"train_absolute_loss_objective\": {\"sum\": 0.6028349675238133, \"count\": 1, \"min\": 0.6028349675238133, \"max\": 0.6028349675238133}}}\u001b[0m\n",
      "\u001b[34m#metrics {\"StartTime\": 1701119460.4778278, \"EndTime\": 1701119460.4778388, \"Dimensions\": {\"Algorithm\": \"Linear Learner\", \"Host\": \"algo-1\", \"Operation\": \"training\", \"epoch\": 4, \"model\": 19}, \"Metrics\": {\"train_absolute_loss_objective\": {\"sum\": 0.5995559900999069, \"count\": 1, \"min\": 0.5995559900999069, \"max\": 0.5995559900999069}}}\u001b[0m\n",
      "\u001b[34m#metrics {\"StartTime\": 1701119460.4778776, \"EndTime\": 1701119460.4778883, \"Dimensions\": {\"Algorithm\": \"Linear Learner\", \"Host\": \"algo-1\", \"Operation\": \"training\", \"epoch\": 4, \"model\": 20}, \"Metrics\": {\"train_absolute_loss_objective\": {\"sum\": 0.3750165343284607, \"count\": 1, \"min\": 0.3750165343284607, \"max\": 0.3750165343284607}}}\u001b[0m\n",
      "\u001b[34m#metrics {\"StartTime\": 1701119460.4779363, \"EndTime\": 1701119460.4779482, \"Dimensions\": {\"Algorithm\": \"Linear Learner\", \"Host\": \"algo-1\", \"Operation\": \"training\", \"epoch\": 4, \"model\": 21}, \"Metrics\": {\"train_absolute_loss_objective\": {\"sum\": 0.3866966724395752, \"count\": 1, \"min\": 0.3866966724395752, \"max\": 0.3866966724395752}}}\u001b[0m\n",
      "\u001b[34m#metrics {\"StartTime\": 1701119460.4779904, \"EndTime\": 1701119460.478001, \"Dimensions\": {\"Algorithm\": \"Linear Learner\", \"Host\": \"algo-1\", \"Operation\": \"training\", \"epoch\": 4, \"model\": 22}, \"Metrics\": {\"train_absolute_loss_objective\": {\"sum\": 0.42153429314494134, \"count\": 1, \"min\": 0.42153429314494134, \"max\": 0.42153429314494134}}}\u001b[0m\n",
      "\u001b[34m#metrics {\"StartTime\": 1701119460.478039, \"EndTime\": 1701119460.4780495, \"Dimensions\": {\"Algorithm\": \"Linear Learner\", \"Host\": \"algo-1\", \"Operation\": \"training\", \"epoch\": 4, \"model\": 23}, \"Metrics\": {\"train_absolute_loss_objective\": {\"sum\": 0.38745174258947374, \"count\": 1, \"min\": 0.38745174258947374, \"max\": 0.38745174258947374}}}\u001b[0m\n",
      "\u001b[34m#metrics {\"StartTime\": 1701119460.4780905, \"EndTime\": 1701119460.4781015, \"Dimensions\": {\"Algorithm\": \"Linear Learner\", \"Host\": \"algo-1\", \"Operation\": \"training\", \"epoch\": 4, \"model\": 24}, \"Metrics\": {\"train_absolute_loss_objective\": {\"sum\": 0.7944815173745156, \"count\": 1, \"min\": 0.7944815173745156, \"max\": 0.7944815173745156}}}\u001b[0m\n",
      "\u001b[34m#metrics {\"StartTime\": 1701119460.4781387, \"EndTime\": 1701119460.4781492, \"Dimensions\": {\"Algorithm\": \"Linear Learner\", \"Host\": \"algo-1\", \"Operation\": \"training\", \"epoch\": 4, \"model\": 25}, \"Metrics\": {\"train_absolute_loss_objective\": {\"sum\": 0.7953227020800113, \"count\": 1, \"min\": 0.7953227020800113, \"max\": 0.7953227020800113}}}\u001b[0m\n",
      "\u001b[34m#metrics {\"StartTime\": 1701119460.4781854, \"EndTime\": 1701119460.4781957, \"Dimensions\": {\"Algorithm\": \"Linear Learner\", \"Host\": \"algo-1\", \"Operation\": \"training\", \"epoch\": 4, \"model\": 26}, \"Metrics\": {\"train_absolute_loss_objective\": {\"sum\": 0.7950660154223442, \"count\": 1, \"min\": 0.7950660154223442, \"max\": 0.7950660154223442}}}\u001b[0m\n",
      "\u001b[34m#metrics {\"StartTime\": 1701119460.4782352, \"EndTime\": 1701119460.478246, \"Dimensions\": {\"Algorithm\": \"Linear Learner\", \"Host\": \"algo-1\", \"Operation\": \"training\", \"epoch\": 4, \"model\": 27}, \"Metrics\": {\"train_absolute_loss_objective\": {\"sum\": 0.7955155432224273, \"count\": 1, \"min\": 0.7955155432224273, \"max\": 0.7955155432224273}}}\u001b[0m\n",
      "\u001b[34m#metrics {\"StartTime\": 1701119460.4782922, \"EndTime\": 1701119460.478304, \"Dimensions\": {\"Algorithm\": \"Linear Learner\", \"Host\": \"algo-1\", \"Operation\": \"training\", \"epoch\": 4, \"model\": 28}, \"Metrics\": {\"train_absolute_loss_objective\": {\"sum\": 0.8230018973350525, \"count\": 1, \"min\": 0.8230018973350525, \"max\": 0.8230018973350525}}}\u001b[0m\n",
      "\u001b[34m#metrics {\"StartTime\": 1701119460.478343, \"EndTime\": 1701119460.4783535, \"Dimensions\": {\"Algorithm\": \"Linear Learner\", \"Host\": \"algo-1\", \"Operation\": \"training\", \"epoch\": 4, \"model\": 29}, \"Metrics\": {\"train_absolute_loss_objective\": {\"sum\": 0.8289014905691147, \"count\": 1, \"min\": 0.8289014905691147, \"max\": 0.8289014905691147}}}\u001b[0m\n",
      "\u001b[34m#metrics {\"StartTime\": 1701119460.478393, \"EndTime\": 1701119460.4784045, \"Dimensions\": {\"Algorithm\": \"Linear Learner\", \"Host\": \"algo-1\", \"Operation\": \"training\", \"epoch\": 4, \"model\": 30}, \"Metrics\": {\"train_absolute_loss_objective\": {\"sum\": 0.8223366007208824, \"count\": 1, \"min\": 0.8223366007208824, \"max\": 0.8223366007208824}}}\u001b[0m\n",
      "\u001b[34m#metrics {\"StartTime\": 1701119460.4784517, \"EndTime\": 1701119460.4784636, \"Dimensions\": {\"Algorithm\": \"Linear Learner\", \"Host\": \"algo-1\", \"Operation\": \"training\", \"epoch\": 4, \"model\": 31}, \"Metrics\": {\"train_absolute_loss_objective\": {\"sum\": 0.8293995290994645, \"count\": 1, \"min\": 0.8293995290994645, \"max\": 0.8293995290994645}}}\u001b[0m\n",
      "\u001b[34m[11/27/2023 21:11:00 INFO 140008149247808] #quality_metric: host=algo-1, epoch=4, train absolute_loss_objective <loss>=0.5764835506677628\u001b[0m\n",
      "\u001b[34m[11/27/2023 21:11:00 INFO 140008149247808] #early_stopping_criteria_metric: host=algo-1, epoch=4, criteria=absolute_loss_objective, value=0.2832276701927185\u001b[0m\n",
      "\u001b[34m[11/27/2023 21:11:00 INFO 140008149247808] Saving model for epoch: 4\u001b[0m\n",
      "\u001b[34m[11/27/2023 21:11:00 INFO 140008149247808] Saved checkpoint to \"/tmp/tmp4x_6d_cr/mx-mod-0000.params\"\u001b[0m\n",
      "\u001b[34m[11/27/2023 21:11:00 INFO 140008149247808] #progress_metric: host=algo-1, completed 100.0 % of epochs\u001b[0m\n",
      "\u001b[34m#metrics {\"StartTime\": 1701119460.1011477, \"EndTime\": 1701119460.489665, \"Dimensions\": {\"Algorithm\": \"Linear Learner\", \"Host\": \"algo-1\", \"Operation\": \"training\", \"epoch\": 4, \"Meta\": \"training_data_iter\"}, \"Metrics\": {\"Total Records Seen\": {\"sum\": 485.0, \"count\": 1, \"min\": 485, \"max\": 485}, \"Total Batches Seen\": {\"sum\": 97.0, \"count\": 1, \"min\": 97, \"max\": 97}, \"Max Records Seen Between Resets\": {\"sum\": 80.0, \"count\": 1, \"min\": 80, \"max\": 80}, \"Max Batches Seen Between Resets\": {\"sum\": 16.0, \"count\": 1, \"min\": 16, \"max\": 16}, \"Reset Count\": {\"sum\": 7.0, \"count\": 1, \"min\": 7, \"max\": 7}, \"Number of Records Since Last Reset\": {\"sum\": 80.0, \"count\": 1, \"min\": 80, \"max\": 80}, \"Number of Batches Since Last Reset\": {\"sum\": 16.0, \"count\": 1, \"min\": 16, \"max\": 16}}}\u001b[0m\n",
      "\u001b[34m[11/27/2023 21:11:00 INFO 140008149247808] #throughput_metric: host=algo-1, train throughput=205.82775688419775 records/second\u001b[0m\n",
      "\u001b[34m[11/27/2023 21:11:00 WARNING 140008149247808] wait_for_all_workers will not sync workers since the kv store is not running distributed\u001b[0m\n",
      "\u001b[34m[11/27/2023 21:11:00 WARNING 140008149247808] wait_for_all_workers will not sync workers since the kv store is not running distributed\u001b[0m\n",
      "\u001b[34m[2023-11-27 21:11:00.491] [tensorio] [info] epoch_stats={\"data_pipeline\": \"/opt/ml/input/data/train\", \"epoch\": 14, \"duration\": 0, \"num_examples\": 1, \"num_bytes\": 240}\u001b[0m\n",
      "\u001b[34m[2023-11-27 21:11:00.532] [tensorio] [info] epoch_stats={\"data_pipeline\": \"/opt/ml/input/data/train\", \"epoch\": 16, \"duration\": 38, \"num_examples\": 16, \"num_bytes\": 3840}\u001b[0m\n",
      "\u001b[34m[11/27/2023 21:11:00 INFO 140008149247808] #train_score (algo-1) : ('absolute_loss_objective', 1.3780763387680053)\u001b[0m\n",
      "\u001b[34m[11/27/2023 21:11:00 INFO 140008149247808] #train_score (algo-1) : ('mse', 2.9748007386922835)\u001b[0m\n",
      "\u001b[34m[11/27/2023 21:11:00 INFO 140008149247808] #train_score (algo-1) : ('absolute_loss', 1.3780763387680053)\u001b[0m\n",
      "\u001b[34m[11/27/2023 21:11:00 INFO 140008149247808] #train_score (algo-1) : ('rmse', 1.7247610671314109)\u001b[0m\n",
      "\u001b[34m[11/27/2023 21:11:00 INFO 140008149247808] #train_score (algo-1) : ('r2', 0.8619493160182128)\u001b[0m\n",
      "\u001b[34m[11/27/2023 21:11:00 INFO 140008149247808] #train_score (algo-1) : ('mae', 1.3780763387680053)\u001b[0m\n",
      "\u001b[34m[11/27/2023 21:11:00 INFO 140008149247808] #quality_metric: host=algo-1, train absolute_loss_objective <loss>=1.3780763387680053\u001b[0m\n",
      "\u001b[34m[11/27/2023 21:11:00 INFO 140008149247808] #quality_metric: host=algo-1, train mse <loss>=2.9748007386922835\u001b[0m\n",
      "\u001b[34m[11/27/2023 21:11:00 INFO 140008149247808] #quality_metric: host=algo-1, train absolute_loss <loss>=1.3780763387680053\u001b[0m\n",
      "\u001b[34m[11/27/2023 21:11:00 INFO 140008149247808] #quality_metric: host=algo-1, train rmse <loss>=1.7247610671314109\u001b[0m\n",
      "\u001b[34m[11/27/2023 21:11:00 INFO 140008149247808] #quality_metric: host=algo-1, train r2 <loss>=0.8619493160182128\u001b[0m\n",
      "\u001b[34m[11/27/2023 21:11:00 INFO 140008149247808] #quality_metric: host=algo-1, train mae <loss>=1.3780763387680053\u001b[0m\n",
      "\u001b[34m[11/27/2023 21:11:00 INFO 140008149247808] Best model found for hyperparameters: {\"optimizer\": \"adam\", \"learning_rate\": 0.1, \"wd\": 0.0001, \"l1\": 0.0, \"lr_scheduler_step\": 10, \"lr_scheduler_factor\": 0.99, \"lr_scheduler_minimum_lr\": 0.0001}\u001b[0m\n",
      "\u001b[34m[11/27/2023 21:11:00 INFO 140008149247808] Saved checkpoint to \"/tmp/tmpolaej5e1/mx-mod-0000.params\"\u001b[0m\n",
      "\u001b[34m[11/27/2023 21:11:00 INFO 140008149247808] Test data is not provided.\u001b[0m\n",
      "\u001b[34m#metrics {\"StartTime\": 1701119458.4065397, \"EndTime\": 1701119460.5438628, \"Dimensions\": {\"Algorithm\": \"Linear Learner\", \"Host\": \"algo-1\", \"Operation\": \"training\"}, \"Metrics\": {\"initialize.time\": {\"sum\": 267.620325088501, \"count\": 1, \"min\": 267.620325088501, \"max\": 267.620325088501}, \"epochs\": {\"sum\": 5.0, \"count\": 1, \"min\": 5, \"max\": 5}, \"check_early_stopping.time\": {\"sum\": 5.473136901855469, \"count\": 5, \"min\": 0.22482872009277344, \"max\": 1.3954639434814453}, \"update.time\": {\"sum\": 1796.741008758545, \"count\": 5, \"min\": 320.70231437683105, \"max\": 394.30880546569824}, \"finalize.time\": {\"sum\": 46.20671272277832, \"count\": 1, \"min\": 46.20671272277832, \"max\": 46.20671272277832}, \"setuptime\": {\"sum\": 2.7844905853271484, \"count\": 1, \"min\": 2.7844905853271484, \"max\": 2.7844905853271484}, \"totaltime\": {\"sum\": 2270.1470851898193, \"count\": 1, \"min\": 2270.1470851898193, \"max\": 2270.1470851898193}}}\u001b[0m\n",
      "\n",
      "2023-11-27 21:11:18 Completed - Training job completed\n",
      "Training seconds: 153\n",
      "Billable seconds: 89\n",
      "Managed Spot Training savings: 41.8%\n"
     ]
    }
   ],
   "source": [
    "linear = sagemaker.estimator.Estimator(container,\n",
    "                                       role, \n",
    "                                       instance_count = 1, \n",
    "                                       instance_type = 'ml.m4.xlarge',\n",
    "                                       output_path = output_location,\n",
    "                                       use_spot_instances = True,\n",
    "                                       max_wait = 300,\n",
    "                                       max_run = 60,\n",
    "                                       sagemaker_session = sagemaker_session)\n",
    "\n",
    "linear.set_hyperparameters(feature_dim = 1,\n",
    "                           predictor_type = 'regressor',\n",
    "                           mini_batch_size = 5,\n",
    "                           epochs = 5,\n",
    "                           num_models = 32,\n",
    "                           loss = 'absolute_loss')\n",
    "\n",
    "linear.fit({'train': s3_train_data})"
   ]
  },
  {
   "cell_type": "code",
   "execution_count": 15,
   "id": "18184bc5-eab5-4c42-aaf6-81e9c01c793f",
   "metadata": {
    "tags": []
   },
   "outputs": [
    {
     "name": "stderr",
     "output_type": "stream",
     "text": [
      "INFO:sagemaker:Creating model with name: linear-learner-2023-11-27-21-11-48-501\n",
      "INFO:sagemaker:Creating endpoint-config with name linear-learner-2023-11-27-21-11-48-501\n",
      "INFO:sagemaker:Creating endpoint with name linear-learner-2023-11-27-21-11-48-501\n"
     ]
    },
    {
     "name": "stdout",
     "output_type": "stream",
     "text": [
      "-------!"
     ]
    }
   ],
   "source": [
    "linear_regressor = linear.deploy(initial_instance_count = 1,\n",
    "                                 instance_type = 'ml.m4.xlarge',\n",
    "                                 serializer = CSVSerializer(),\n",
    "                                 deserializer = JSONDeserializer())"
   ]
  },
  {
   "cell_type": "code",
   "execution_count": 16,
   "id": "4e0cc943-9776-4466-8208-b935513cda0c",
   "metadata": {
    "tags": []
   },
   "outputs": [],
   "source": [
    "result = linear_regressor.predict(X_test)"
   ]
  },
  {
   "cell_type": "code",
   "execution_count": 17,
   "id": "fe05f5d1-4755-45c1-9fec-65b82310cf6c",
   "metadata": {
    "tags": []
   },
   "outputs": [
    {
     "data": {
      "image/png": "[encoded data removed]",
      "text/plain": [
       "<Figure size 1000x600 with 1 Axes>"
      ]
     },
     "metadata": {},
     "output_type": "display_data"
    }
   ],
   "source": [
    "predictions = np.array([r['score'] for r in result['predictions']])\n",
    "\n",
    "# VISUALIZE TEST SET RESULTS\n",
    "plt.figure(figsize = (10, 6))\n",
    "plt.scatter(X_test, y_test, color = 'blue')\n",
    "plt.plot(X_test, predictions, color = 'red')\n",
    "plt.xlabel('Horse Power')\n",
    "plt.ylabel('Fuel Economy (MPG)')\n",
    "plt.title('Horse Power x Fuel Economy (MPG)')\n",
    "plt.grid()"
   ]
  },
  {
   "cell_type": "code",
   "execution_count": 18,
   "id": "10fa1944-3260-4f93-9239-06f7a90b651d",
   "metadata": {
    "tags": []
   },
   "outputs": [
    {
     "name": "stderr",
     "output_type": "stream",
     "text": [
      "INFO:sagemaker:Deleting endpoint configuration with name: linear-learner-2023-11-27-21-11-48-501\n",
      "INFO:sagemaker:Deleting endpoint with name: linear-learner-2023-11-27-21-11-48-501\n"
     ]
    }
   ],
   "source": [
    "linear_regressor.delete_endpoint()"
   ]
  },
  {
   "cell_type": "code",
   "execution_count": null,
   "id": "4c088f81-f627-472c-9c10-e467a9eb0e49",
   "metadata": {},
   "outputs": [],
   "source": []
  },
  {
   "cell_type": "code",
   "execution_count": null,
   "id": "8c753ef0-4111-461b-8d6f-062333e40e8e",
   "metadata": {},
   "outputs": [],
   "source": []
  }
 ],
 "metadata": {
  "kernelspec": {
   "display_name": "conda_python3",
   "language": "python",
   "name": "conda_python3"
  },
  "language_info": {
   "codemirror_mode": {
    "name": "ipython",
    "version": 3
   },
   "file_extension": ".py",
   "mimetype": "text/x-python",
   "name": "python",
   "nbconvert_exporter": "python",
   "pygments_lexer": "ipython3",
   "version": "3.10.13"
  },
  "toc-autonumbering": true
 },
 "nbformat": 4,
 "nbformat_minor": 5
}
